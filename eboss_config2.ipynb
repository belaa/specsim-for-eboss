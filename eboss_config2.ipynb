{
 "cells": [
  {
   "cell_type": "markdown",
   "metadata": {},
   "source": [
    "## Generate camera data files for instrument configuration"
   ]
  },
  {
   "cell_type": "code",
   "execution_count": 1,
   "metadata": {
    "collapsed": false
   },
   "outputs": [
    {
     "name": "stdout",
     "output_type": "stream",
     "text": [
      "Populating the interactive namespace from numpy and matplotlib\n"
     ]
    }
   ],
   "source": [
    "%pylab inline"
   ]
  },
  {
   "cell_type": "code",
   "execution_count": 2,
   "metadata": {
    "collapsed": true
   },
   "outputs": [],
   "source": [
    "import bossdata\n",
    "import fitsio\n",
    "import os\n",
    "import astropy.units as u\n",
    "\n",
    "from astropy.io import fits\n",
    "from specsim import config, instrument"
   ]
  },
  {
   "cell_type": "code",
   "execution_count": 3,
   "metadata": {
    "collapsed": true
   },
   "outputs": [],
   "source": [
    "finder = bossdata.path.Finder()\n",
    "mirror = bossdata.remote.Manager()"
   ]
  },
  {
   "cell_type": "code",
   "execution_count": null,
   "metadata": {
    "collapsed": true
   },
   "outputs": [],
   "source": [
    "fwhm = np.sqrt(8*np.log(2))\n",
    "\n",
    "def get_hdulist(sequence_number, band, fiber, plan_path):\n",
    "    local_plan_path = mirror.get(plan_path)\n",
    "    Plan = bossdata.plate.Plan(local_plan_path)\n",
    "    exp_name = Plan.get_exposure_name(sequence_number=sequence_number, band=band, fiber=fiber, ftype='spCFrame')\n",
    "    spec_index = Plan.get_spectrograph_index(fiber=fiber)\n",
    "    local_fits = mirror.get(os.path.join(plan_path.strip(os.path.basename(plan_path)), exp_name))\n",
    "    hdulist = fits.open(local_fits)\n",
    "    Frame = bossdata.plate.FrameFile(path=local_fits, index=spec_index, calibrated=True)\n",
    "    return(hdulist, Frame.camera)\n",
    "\n",
    "\n",
    "def plot_cameras(plate, mjd, sequence_number=1, rms=False, plot=True):\n",
    "    plan_path = finder.get_plate_plan_path(plate=plate, mjd=mjd, combined=True)\n",
    "    b1_hdulist, b1_title = get_hdulist(sequence_number=sequence_number, band='blue', fiber=30, plan_path=plan_path)\n",
    "    b2_hdulist, b2_title = get_hdulist(sequence_number=sequence_number, band='blue', fiber=600, plan_path=plan_path)\n",
    "    r1_hdulist, r1_title = get_hdulist(sequence_number=sequence_number, band='red', fiber=30, plan_path=plan_path)\n",
    "    r2_hdulist, r2_title = get_hdulist(sequence_number=sequence_number, band='red', fiber=600, plan_path=plan_path)\n",
    "    if plot:\n",
    "        fig, ((ax1, ax2), (ax3, ax4)) = plt.subplots(2,2, figsize=(15, 11))\n",
    "        b1_w = 10**b1_hdulist[3].data\n",
    "        b1_r = b1_hdulist[4].data*0.0001*np.log(10)*b1_w\n",
    "        b2_w = 10**b2_hdulist[3].data\n",
    "        b2_r = b2_hdulist[4].data*0.0001*np.log(10)*b2_w\n",
    "        r1_w = 10**r1_hdulist[3].data\n",
    "        r1_r = r1_hdulist[4].data*0.0001*np.log(10)*r1_w\n",
    "        r2_w = 10**r2_hdulist[3].data\n",
    "        r2_r = r2_hdulist[4].data*0.0001*np.log(10)*r2_w\n",
    "        \n",
    "        if rms:\n",
    "            ax1.scatter(b1_w, b1_r, s=3)\n",
    "            ax2.scatter(b2_w, b2_r, s=3)\n",
    "            ax3.scatter(r1_w, r1_r, s=3)\n",
    "            ax4.scatter(r2_w, r2_r, s=3)\n",
    "            ax1.set_ylabel('RMS Resolution (Angstrom)')\n",
    "            ax2.set_ylabel('RMS Resolution (Angstrom)')\n",
    "            ax3.set_ylabel('RMS Resolution (Angstrom)')\n",
    "            ax4.set_ylabel('RMS Resolution (Angstrom)')\n",
    "            \n",
    "        else:\n",
    "            ax1.scatter(b1_w, b1_r*fwhm, s=3)\n",
    "            ax2.scatter(b2_w, b2_r*fwhm, s=3)\n",
    "            ax3.scatter(r1_w, r1_r*fwhm, s=3)\n",
    "            ax4.scatter(r2_w, r2_r*fwhm, s=3)\n",
    "            ax1.set_ylabel('FWHM Resolution (Angstrom)')\n",
    "            ax2.set_ylabel('FWHM Resolution (Angstrom)')\n",
    "            ax3.set_ylabel('FWHM Resolution (Angstrom)')\n",
    "            ax4.set_ylabel('FWHM Resolution (Angstrom)')\n",
    "\n",
    "\n",
    "\n",
    "\n",
    "        \n",
    "        ax1.set_title('{:s}'.format(b1_title))\n",
    "        ax1.set_xlabel('Wavelength (Angstrom)')\n",
    "        ax2.set_title('{:s}'.format(b2_title))\n",
    "        ax2.set_xlabel('Wavelength (Angstrom)')\n",
    "        ax3.set_title('{:s}'.format(r1_title))\n",
    "        ax3.set_xlabel('Wavelength (Angstrom)')\n",
    "        ax4.set_title('{:s}'.format(r2_title))\n",
    "        ax4.set_xlabel('Wavelength (Angstrom)')\n",
    "        \n",
    "        \n",
    "        plt.tight_layout()\n",
    "        #plt.savefig('plate7301_mjd56746.png')\n",
    "        plt.show()\n",
    "        \n",
    "    return b1_hdulist, b2_hdulist, r1_hdulist, r2_hdulist"
   ]
  }
 ],
 "metadata": {
  "kernelspec": {
   "display_name": "Python [conda env:bossdata]",
   "language": "python",
   "name": "conda-env-bossdata-py"
  },
  "language_info": {
   "codemirror_mode": {
    "name": "ipython",
    "version": 2
   },
   "file_extension": ".py",
   "mimetype": "text/x-python",
   "name": "python",
   "nbconvert_exporter": "python",
   "pygments_lexer": "ipython2",
   "version": "2.7.13"
  }
 },
 "nbformat": 4,
 "nbformat_minor": 1
}
