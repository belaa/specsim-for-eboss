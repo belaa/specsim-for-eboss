{
 "cells": [
  {
   "cell_type": "markdown",
   "metadata": {},
   "source": [
    "## Is it worth calculating the read noise per (wavelength) pixel in eBOSS?"
   ]
  },
  {
   "cell_type": "code",
   "execution_count": 1,
   "metadata": {
    "collapsed": false
   },
   "outputs": [
    {
     "name": "stdout",
     "output_type": "stream",
     "text": [
      "Populating the interactive namespace from numpy and matplotlib\n"
     ]
    }
   ],
   "source": [
    "%pylab inline"
   ]
  },
  {
   "cell_type": "code",
   "execution_count": 2,
   "metadata": {
    "collapsed": true
   },
   "outputs": [],
   "source": [
    "import bossdata"
   ]
  },
  {
   "cell_type": "code",
   "execution_count": 5,
   "metadata": {
    "collapsed": false
   },
   "outputs": [],
   "source": [
    "finder = bossdata.path.Finder()\n",
    "mirror = bossdata.remote.Manager()"
   ]
  },
  {
   "cell_type": "markdown",
   "metadata": {},
   "source": [
    "#### Access Frame files"
   ]
  },
  {
   "cell_type": "code",
   "execution_count": null,
   "metadata": {
    "collapsed": true
   },
   "outputs": [],
   "source": [
    "def get_frame_file(plate, mjd, fiber, expidx, camera):\n",
    "    \n",
    "    spec_name = finder.get_spec_path(plate, mjd, fiber, lite=True)\n",
    "    exposures = bossdata.spec.SpecFile(mirror.get(spec_name)).exposures\n",
    "\n",
    "    name = exposures.get_exposure_name(expidx, camera, 'spCFrame')\n",
    "    path = mirror.get(finder.get_plate_path(plate, name))\n",
    "    spCFrame = bossdata.plate.FrameFile(path, calibrated=True)\n",
    "    data = spCFrame.get_valid_data(np.array([fiber]), include_sky=True,use_ivar=True, pixel_quality_mask=None)[0]\n",
    "    wave, flux, sky, ivar = data['wavelength'], data['flux'], data['sky'], data['ivar']\n",
    "\n",
    "    return(wave, flux, sky, ivar)"
   ]
  }
 ],
 "metadata": {
  "anaconda-cloud": {},
  "kernelspec": {
   "display_name": "Python [conda env:bossdata]",
   "language": "python",
   "name": "conda-env-bossdata-py"
  },
  "language_info": {
   "codemirror_mode": {
    "name": "ipython",
    "version": 2
   },
   "file_extension": ".py",
   "mimetype": "text/x-python",
   "name": "python",
   "nbconvert_exporter": "python",
   "pygments_lexer": "ipython2",
   "version": "2.7.13"
  }
 },
 "nbformat": 4,
 "nbformat_minor": 1
}
