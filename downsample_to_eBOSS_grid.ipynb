{
 "cells": [
  {
   "cell_type": "markdown",
   "metadata": {},
   "source": [
    "### Downsample specsim output to log-10 A wavelength grid for eBOSS"
   ]
  },
  {
   "cell_type": "code",
   "execution_count": 1,
   "metadata": {
    "collapsed": false
   },
   "outputs": [
    {
     "name": "stdout",
     "output_type": "stream",
     "text": [
      "Populating the interactive namespace from numpy and matplotlib\n"
     ]
    }
   ],
   "source": [
    "%pylab inline"
   ]
  },
  {
   "cell_type": "code",
   "execution_count": 2,
   "metadata": {
    "collapsed": true
   },
   "outputs": [],
   "source": [
    "import specsim.simulator"
   ]
  },
  {
   "cell_type": "code",
   "execution_count": 128,
   "metadata": {
    "collapsed": false
   },
   "outputs": [
    {
     "name": "stderr",
     "output_type": "stream",
     "text": [
      "/Users/belaabolfathi/anaconda3/lib/python3.5/site-packages/speclite/filters.py:1466: FutureWarning: Using a non-tuple sequence for multidimensional indexing is deprecated; use `arr[tuple(seq)]` instead of `arr[seq]`. In the future this will be interpreted as an array index, `arr[np.array(seq)]`, which will result either in an error or a different result.\n",
      "  values_no_units = values_no_units[values_slice]\n"
     ]
    },
    {
     "name": "stdout",
     "output_type": "stream",
     "text": [
      "0.425540063261514\n",
      "0.6453951007787123\n"
     ]
    },
    {
     "name": "stderr",
     "output_type": "stream",
     "text": [
      "/Users/belaabolfathi/desi/code/specsim/specsim/simulator.py:552: RuntimeWarning: divide by zero encountered in true_divide\n",
      "  source_flux_to_photons * camera.throughput.reshape(-1, 1)))\n",
      "/Users/belaabolfathi/desi/code/specsim/specsim/simulator.py:556: RuntimeWarning: invalid value encountered in multiply\n",
      "  output['flux_calibration'] * output['num_source_electrons'])\n"
     ]
    }
   ],
   "source": [
    "simulator = specsim.simulator.Simulator('eboss', num_fibers=1)\n",
    "simulator.atmosphere\n",
    "#simulator.instrument.fast_fiber_acceptance\n",
    "simulator.simulate()\n",
    "\n",
    "blue_output = simulator.camera_output[0]\n",
    "red_output = simulator.camera_output[1]\n",
    "\n",
    "sim = simulator.simulated\n",
    "\n",
    "b_wlen, r_wlen = blue_output['wavelength'], red_output['wavelength']\n",
    "b_flux, r_flux = blue_output['observed_flux'], red_output['observed_flux']"
   ]
  },
  {
   "cell_type": "code",
   "execution_count": 8,
   "metadata": {
    "collapsed": false
   },
   "outputs": [
    {
     "name": "stdout",
     "output_type": "stream",
     "text": [
      "0.425540063261514\n",
      "0.6453951007787123\n"
     ]
    }
   ],
   "source": [
    "for cam in simulator.instrument.cameras:\n",
    "    print(np.count_nonzero(cam.throughput) / len(cam.throughput))"
   ]
  },
  {
   "cell_type": "code",
   "execution_count": 12,
   "metadata": {
    "collapsed": false
   },
   "outputs": [
    {
     "data": {
      "text/plain": [
       "70501"
      ]
     },
     "execution_count": 12,
     "metadata": {},
     "output_type": "execute_result"
    }
   ],
   "source": [
    "## how does this have length 70501 when the throughput table has length 1001?\n",
    "len(cam.throughput)"
   ]
  },
  {
   "cell_type": "code",
   "execution_count": 15,
   "metadata": {
    "collapsed": false
   },
   "outputs": [],
   "source": [
    "config = specsim.config.load_config('eboss')"
   ]
  },
  {
   "cell_type": "code",
   "execution_count": 17,
   "metadata": {
    "collapsed": true
   },
   "outputs": [],
   "source": [
    "instrument = specsim.instrument.initialize(config, camera_output=True)"
   ]
  },
  {
   "cell_type": "code",
   "execution_count": 20,
   "metadata": {
    "collapsed": false
   },
   "outputs": [],
   "source": [
    "cameras = instrument.cameras"
   ]
  },
  {
   "cell_type": "code",
   "execution_count": 21,
   "metadata": {
    "collapsed": true
   },
   "outputs": [],
   "source": [
    "blue_cam = cameras[0]\n",
    "red_cam = cameras[1]"
   ]
  },
  {
   "cell_type": "code",
   "execution_count": 22,
   "metadata": {
    "collapsed": false
   },
   "outputs": [
    {
     "data": {
      "text/plain": [
       "array([0., 0., 0., ..., 0., 0., 0.])"
      ]
     },
     "execution_count": 22,
     "metadata": {},
     "output_type": "execute_result"
    }
   ],
   "source": [
    "blue_cam.throughput"
   ]
  },
  {
   "cell_type": "code",
   "execution_count": 28,
   "metadata": {
    "collapsed": false
   },
   "outputs": [],
   "source": [
    "cameras = config.instrument.cameras\n",
    "camera_names = cameras.keys()"
   ]
  },
  {
   "cell_type": "code",
   "execution_count": 29,
   "metadata": {
    "collapsed": false
   },
   "outputs": [
    {
     "data": {
      "text/plain": [
       "dict_keys(['r', 'b'])"
      ]
     },
     "execution_count": 29,
     "metadata": {},
     "output_type": "execute_result"
    }
   ],
   "source": [
    "camera_names"
   ]
  },
  {
   "cell_type": "code",
   "execution_count": 56,
   "metadata": {
    "collapsed": false
   },
   "outputs": [],
   "source": [
    "camera = getattr(cameras, 'r')"
   ]
  },
  {
   "cell_type": "code",
   "execution_count": 46,
   "metadata": {
    "collapsed": false
   },
   "outputs": [
    {
     "data": {
      "text/plain": [
       "70501"
      ]
     },
     "execution_count": 46,
     "metadata": {},
     "output_type": "execute_result"
    }
   ],
   "source": [
    "len(config.load_table(camera.throughput, 'throughput'))"
   ]
  },
  {
   "cell_type": "code",
   "execution_count": 52,
   "metadata": {
    "collapsed": false
   },
   "outputs": [
    {
     "data": {
      "text/plain": [
       "dict_keys(['throughput', 'wavelength'])"
      ]
     },
     "execution_count": 52,
     "metadata": {},
     "output_type": "execute_result"
    }
   ],
   "source": [
    "camera.throughput.table.columns.keys()"
   ]
  },
  {
   "cell_type": "code",
   "execution_count": 59,
   "metadata": {
    "collapsed": false
   },
   "outputs": [],
   "source": [
    "parent = camera.throughput\n",
    "column_names = 'throughput'"
   ]
  },
  {
   "cell_type": "code",
   "execution_count": 67,
   "metadata": {
    "collapsed": true
   },
   "outputs": [],
   "source": [
    "import os"
   ]
  },
  {
   "cell_type": "code",
   "execution_count": 69,
   "metadata": {
    "collapsed": false
   },
   "outputs": [],
   "source": [
    "node = parent.table\n",
    "interpolate = True\n",
    "abs_base_path = '/Users/belaabolfathi/desi/code/specsim/specsim/data/'\n",
    "\n",
    "required_names = [column_names[:]]\n",
    "if interpolate:\n",
    "    required_names.append('wavelength')\n",
    "required_names = sorted(required_names)\n",
    "\n",
    "columns = node.columns\n",
    "config_column_names = sorted(columns.keys())\n",
    "if required_names != config_column_names:\n",
    "    raise RuntimeError(\n",
    "        'Expected {0} for \"{1}\"'.format(required_names, columns))\n",
    "\n",
    "# Prepare the arguments we will send to astropy.table.Table.read()\n",
    "read_args = {}\n",
    "keys = node.keys()\n",
    "for key in ('format', 'hdu'):\n",
    "    if key in keys:\n",
    "        read_args[key] = getattr(node, key)\n",
    "\n",
    "# Prepare a list of paths we will load tables from.\n",
    "paths = []\n",
    "path_keys = None\n",
    "try:\n",
    "    # Look for parent.table.path first.\n",
    "    paths.append(os.path.join(abs_base_path, node.path))\n",
    "except AttributeError:\n",
    "    path_keys = list(node.paths.keys())\n",
    "    for key in path_keys:\n",
    "        path = getattr(node.paths, key)\n",
    "        paths.append(os.path.join(self.abs_base_path, path))\n"
   ]
  },
  {
   "cell_type": "code",
   "execution_count": 81,
   "metadata": {
    "collapsed": true
   },
   "outputs": [],
   "source": [
    "import astropy\n",
    "import scipy"
   ]
  },
  {
   "cell_type": "code",
   "execution_count": 82,
   "metadata": {
    "collapsed": false
   },
   "outputs": [
    {
     "name": "stdout",
     "output_type": "stream",
     "text": [
      "Loaded 1001 rows from /Users/belaabolfathi/desi/code/specsim/specsim/data/sdss/eboss-thru-r.fits with args {}\n"
     ]
    },
    {
     "ename": "KeyError",
     "evalue": "'t'",
     "output_type": "error",
     "traceback": [
      "\u001b[0;31m---------------------------------------------------------------------------\u001b[0m",
      "\u001b[0;31mKeyError\u001b[0m                                  Traceback (most recent call last)",
      "\u001b[0;32m<ipython-input-82-3b4c6c15f0c4>\u001b[0m in \u001b[0;36m<module>\u001b[0;34m()\u001b[0m\n\u001b[1;32m     69\u001b[0m     \u001b[0;32mfor\u001b[0m \u001b[0mcolumn_name\u001b[0m \u001b[0;32min\u001b[0m \u001b[0mcolumn_names\u001b[0m\u001b[0;34m:\u001b[0m\u001b[0;34m\u001b[0m\u001b[0m\n\u001b[1;32m     70\u001b[0m         interpolator = scipy.interpolate.interp1d(\n\u001b[0;32m---> 71\u001b[0;31m             \u001b[0mwavelength\u001b[0m\u001b[0;34m.\u001b[0m\u001b[0mvalue\u001b[0m\u001b[0;34m,\u001b[0m \u001b[0mloaded_columns\u001b[0m\u001b[0;34m[\u001b[0m\u001b[0mcolumn_name\u001b[0m\u001b[0;34m]\u001b[0m\u001b[0;34m.\u001b[0m\u001b[0mdata\u001b[0m\u001b[0;34m,\u001b[0m\u001b[0;34m\u001b[0m\u001b[0m\n\u001b[0m\u001b[1;32m     72\u001b[0m             \u001b[0mkind\u001b[0m\u001b[0;34m=\u001b[0m\u001b[0;34m'linear'\u001b[0m\u001b[0;34m,\u001b[0m \u001b[0mcopy\u001b[0m\u001b[0;34m=\u001b[0m\u001b[0;32mFalse\u001b[0m\u001b[0;34m,\u001b[0m\u001b[0;34m\u001b[0m\u001b[0m\n\u001b[1;32m     73\u001b[0m             bounds_error=bounds_error, fill_value=fill_value)\n",
      "\u001b[0;31mKeyError\u001b[0m: 't'"
     ]
    }
   ],
   "source": [
    "tables = {}\n",
    "\n",
    "# Loop over tables to load.\n",
    "for i, path in enumerate(paths):\n",
    "    key = path_keys[i] if path_keys else 'default'\n",
    "\n",
    "table = astropy.table.Table.read(path, **read_args)\n",
    "    \n",
    "print('Loaded {0} rows from {1} with args {2}'.format(len(table), path, read_args))\n",
    "\n",
    "# Loop over columns to read.\n",
    "loaded_columns = {}\n",
    "for config_name in config_column_names:\n",
    "    column = getattr(columns, config_name)\n",
    "    # Look up the column data by index first, then by name.\n",
    "    try:\n",
    "        column_data = table.columns[column.index]\n",
    "    except AttributeError:\n",
    "        column_data = table[column.name]\n",
    "    column_values = column_data.data\n",
    "    # Resolve column units.\n",
    "    try:\n",
    "        column_unit = astropy.units.Unit(column.unit)\n",
    "    except AttributeError:\n",
    "        column_unit = None\n",
    "    try:\n",
    "        override_unit = column.override_unit\n",
    "        assert override_unit in (True, False)\n",
    "    except AttributeError:\n",
    "        override_unit = False\n",
    "\n",
    "    if override_unit or column_data.unit is None:\n",
    "        if column_unit is not None:\n",
    "            # Assign the unit specified in our config.\n",
    "            column_data.unit = column_unit\n",
    "    else:\n",
    "        if ((column_unit is not None) and\n",
    "            (column_unit != column_data.unit)):\n",
    "            raise RuntimeError(\n",
    "                'Units do not match for \"{0}\".'.format(column))\n",
    "\n",
    "    if interpolate:\n",
    "        loaded_columns[config_name] = column_data\n",
    "    else:\n",
    "        unit = column_data.unit\n",
    "        if unit:\n",
    "            loaded_columns[config_name] = column_data.data * unit\n",
    "        else:\n",
    "            loaded_columns[config_name] = column_data.data\n",
    "            \n",
    "if interpolate:\n",
    "    wavelength_column = loaded_columns['wavelength']\n",
    "    # Convert wavelength column units if necesary.\n",
    "    if wavelength_column.unit is None:\n",
    "        raise RuntimeError(\n",
    "            'Wavelength units required for \"{0}\"'.format(columns))\n",
    "    wavelength = wavelength_column.data * wavelength_column.unit\n",
    "\n",
    "    # Initialize extrapolation if requested.\n",
    "    try:\n",
    "        fill_value = node.extrapolated_value\n",
    "        bounds_error = False\n",
    "    except AttributeError:\n",
    "        fill_value = None\n",
    "        bounds_error = True\n",
    "\n",
    "    # Loop over other columns to interpolate onto our\n",
    "    # wavelength grid.\n",
    "    for column_name in column_names:\n",
    "        interpolator = scipy.interpolate.interp1d(\n",
    "            wavelength.value, loaded_columns[column_name].data,\n",
    "            kind='linear', copy=False,\n",
    "            bounds_error=bounds_error, fill_value=fill_value)\n",
    "        interpolated_values = interpolator(self.wavelength.value)\n",
    "        unit = loaded_columns[column_name].unit\n",
    "        if unit:\n",
    "            interpolated_values = interpolated_values * unit\n",
    "        loaded_columns[column_name] = interpolated_values\n",
    "\n",
    "    # Delete the temporary wavelength column now we have\n",
    "    # finished using it for interpolation.\n",
    "    del loaded_columns['wavelength']\n",
    "\n",
    "if return_scalar:\n",
    "    # Return just the one column that was requested.\n",
    "    tables[key] = loaded_columns[column_names[0]]\n",
    "else:\n",
    "    # Return a dictionary of all requested columns.\n",
    "    tables[key] = loaded_columns\n",
    "\n",
    "if path_keys is None and not as_dict:\n",
    "    return tables['default']\n",
    "else:\n",
    "    return tables"
   ]
  },
  {
   "cell_type": "code",
   "execution_count": 39,
   "metadata": {
    "collapsed": true
   },
   "outputs": [],
   "source": [
    "from astropy.table import Table"
   ]
  },
  {
   "cell_type": "code",
   "execution_count": 47,
   "metadata": {
    "collapsed": false
   },
   "outputs": [
    {
     "data": {
      "text/html": [
       "<i>Table length=436</i>\n",
       "<table id=\"table103690179864\" class=\"table-striped table-bordered table-condensed\">\n",
       "<thead><tr><th>wavelength</th><th>throughput</th></tr></thead>\n",
       "<thead><tr><th>int64</th><th>float64</th></tr></thead>\n",
       "<tr><td>3500</td><td>0.1063383971483372</td></tr>\n",
       "<tr><td>3501</td><td>0.1063383971483372</td></tr>\n",
       "<tr><td>3502</td><td>0.1063383971483372</td></tr>\n",
       "<tr><td>3503</td><td>0.1063383971483372</td></tr>\n",
       "<tr><td>3504</td><td>0.1063383971483372</td></tr>\n",
       "<tr><td>3505</td><td>0.1063383971483372</td></tr>\n",
       "<tr><td>3506</td><td>0.1063383971483372</td></tr>\n",
       "<tr><td>3507</td><td>0.1063383971483372</td></tr>\n",
       "<tr><td>3508</td><td>0.1063383971483372</td></tr>\n",
       "<tr><td>3509</td><td>0.1063383971483372</td></tr>\n",
       "<tr><td>...</td><td>...</td></tr>\n",
       "<tr><td>6410</td><td>0.007018626452140998</td></tr>\n",
       "<tr><td>6420</td><td>0.0064650094898116295</td></tr>\n",
       "<tr><td>6430</td><td>0.005971845960798422</td></tr>\n",
       "<tr><td>6440</td><td>0.005536949658068317</td></tr>\n",
       "<tr><td>6450</td><td>0.005149113345186944</td></tr>\n",
       "<tr><td>6460</td><td>0.004810900096030881</td></tr>\n",
       "<tr><td>6470</td><td>0.0045257733913361894</td></tr>\n",
       "<tr><td>6480</td><td>0.004311531045622825</td></tr>\n",
       "<tr><td>6490</td><td>0.004156663023593826</td></tr>\n",
       "<tr><td>6500</td><td>0.004078989702045102</td></tr>\n",
       "</table>"
      ],
      "text/plain": [
       "<Table length=436>\n",
       "wavelength       throughput     \n",
       "  int64           float64       \n",
       "---------- ---------------------\n",
       "      3500    0.1063383971483372\n",
       "      3501    0.1063383971483372\n",
       "      3502    0.1063383971483372\n",
       "      3503    0.1063383971483372\n",
       "      3504    0.1063383971483372\n",
       "      3505    0.1063383971483372\n",
       "      3506    0.1063383971483372\n",
       "      3507    0.1063383971483372\n",
       "      3508    0.1063383971483372\n",
       "      3509    0.1063383971483372\n",
       "       ...                   ...\n",
       "      6410  0.007018626452140998\n",
       "      6420 0.0064650094898116295\n",
       "      6430  0.005971845960798422\n",
       "      6440  0.005536949658068317\n",
       "      6450  0.005149113345186944\n",
       "      6460  0.004810900096030881\n",
       "      6470 0.0045257733913361894\n",
       "      6480  0.004311531045622825\n",
       "      6490  0.004156663023593826\n",
       "      6500  0.004078989702045102"
      ]
     },
     "execution_count": 47,
     "metadata": {},
     "output_type": "execute_result"
    }
   ],
   "source": [
    "Table.read('/Users/belaabolfathi/desi/code/specsim/specsim/data/sdss/eboss-thru-b.fits', format='fits')"
   ]
  },
  {
   "cell_type": "code",
   "execution_count": null,
   "metadata": {
    "collapsed": true
   },
   "outputs": [],
   "source": []
  },
  {
   "cell_type": "code",
   "execution_count": 4,
   "metadata": {
    "collapsed": true
   },
   "outputs": [],
   "source": [
    "eboss_wlen = np.load('b_loglam.npy')"
   ]
  },
  {
   "cell_type": "markdown",
   "metadata": {},
   "source": [
    "### Test cases for resampled functions (sanity check)"
   ]
  },
  {
   "cell_type": "code",
   "execution_count": 5,
   "metadata": {
    "collapsed": true
   },
   "outputs": [],
   "source": [
    "def resample_binned(edges_out, edges_in, hist_in, axis=-1, zero_pad=True):\n",
    "    \"\"\"Flux conserving linear resampler of binned data.\n",
    "    Parameters\n",
    "    ----------\n",
    "    edges_out : array\n",
    "        1D array of M >= 2 output bin edges, in increasing order.\n",
    "    edges_in : array\n",
    "        1D array of N >= 2 input bin edges, in increasing order.\n",
    "    hist_in : array\n",
    "        Array with N-1 input bin values indexed by the specified axis.\n",
    "    axis : int\n",
    "        Axis of hist_in used to index input histogram values.\n",
    "    zero_pad : bool\n",
    "        When True, allow the output edges to extend beyond the input\n",
    "        edges and assume that the input histogram is zero outside of\n",
    "        its extent.  When False, raises a ValueError if extrapolation\n",
    "        would be required.\n",
    "    Returns\n",
    "    -------\n",
    "    array\n",
    "        1D array of M-1 resampled bin values.\n",
    "    \"\"\"\n",
    "    # Check input 1D arrays.\n",
    "    edges_out = np.asarray(edges_out)\n",
    "    edges_in = np.asarray(edges_in)\n",
    "    if edges_out.ndim != 1:\n",
    "        raise ValueError('Expected 1D edges_out.')\n",
    "    if edges_in.ndim != 1:\n",
    "        raise ValueError('Expected 1D edges_in.')\n",
    "    if len(edges_out) < 2:\n",
    "        raise ValueError('Need at least one output bin.')\n",
    "    if len(edges_in) < 2:\n",
    "        raise ValueError('Need at least one input bin.')\n",
    "    binsize_out = np.diff(edges_out)\n",
    "    if np.any(binsize_out <= 0):\n",
    "        raise ValueError('Expecting increasing edges_out.')\n",
    "    binsize_in = np.diff(edges_in)\n",
    "    if np.any(binsize_in <= 0):\n",
    "        raise ValueError('Expecting increasing edges_in.')\n",
    "    if not zero_pad and ((edges_out[0] < edges_in[0]) or\n",
    "                         (edges_out[-1] > edges_in[-1])):\n",
    "        raise ValueError(\n",
    "            'Ouput bins extend beyond input bins but zero_pad is False.')\n",
    "    if (edges_out[0] >= edges_in[-1]) or (edges_out[-1] <= edges_in[0]):\n",
    "        raise ValueError('Input and output bins do not overlap.')\n",
    "    # Check input histogram(s) and put index in axis 0. Note that we\n",
    "    # use moveaxis instead of rollaxis since it is easier to invert.\n",
    "    hist_in = np.asarray(hist_in)\n",
    "    hist_in_rolled = np.moveaxis(hist_in, axis, 0)\n",
    "    if len(hist_in_rolled) != len(edges_in) - 1:\n",
    "        raise ValueError(\n",
    "            'Unexpected length of hist_in along axis {}.'.format(axis))\n",
    "    # Align output edges to input edges.\n",
    "    idx = np.searchsorted(edges_in, edges_out)\n",
    "    # Loop over output bins.\n",
    "    nin = len(edges_in) - 1\n",
    "    nout = len(edges_out) - 1\n",
    "    hist_out_rolled_shape = (nout,) + hist_in_rolled.shape[1:]\n",
    "    hist_out_rolled = np.zeros(hist_out_rolled_shape)\n",
    "    hi = idx[0]\n",
    "    for i in range(nout):\n",
    "        lo = hi\n",
    "        hi = idx[i + 1]\n",
    "        if (lo > nin) or (hi == 0):\n",
    "            # This bin does not overlap the input.\n",
    "            continue\n",
    "        if lo == hi:\n",
    "            # Output bin is fully embedded within an input bin:\n",
    "            # give it a linear share.\n",
    "            hist_out_rolled[i] = (\n",
    "                binsize_out[i] / binsize_in[lo - 1] * hist_in_rolled[lo - 1])\n",
    "            continue\n",
    "        # Calculate fraction of first input bin overlapping this output bin.\n",
    "        if lo > 0:\n",
    "            hist_out_rolled[i] += (\n",
    "                hist_in_rolled[lo - 1] / binsize_in[lo - 1] * (\n",
    "                    edges_in[lo] - edges_out[i]))\n",
    "        # Calculate fraction of last input bin overlaping this output bin.\n",
    "        if hi <= nin:\n",
    "            hist_out_rolled[i] += (\n",
    "                hist_in_rolled[hi - 1] / binsize_in[hi - 1] * (\n",
    "                    edges_out[i + 1] - edges_in[hi - 1]))\n",
    "        # Add input bins fully contained within this output bin.\n",
    "        if hi > lo + 1:\n",
    "            hist_out_rolled[i] += np.sum(hist_in_rolled[lo:hi - 1], axis=0)\n",
    "    # Return our unrolled output histogram.\n",
    "    return np.moveaxis(hist_out_rolled, axis, 0)"
   ]
  },
  {
   "cell_type": "code",
   "execution_count": 34,
   "metadata": {
    "collapsed": true
   },
   "outputs": [],
   "source": [
    "dat = np.random.normal(loc=0, scale=1.0, size=100)\n",
    "edges_in = np.arange(-3,4,1)\n",
    "hist_in, _ = np.histogram(dat, edges_in)\n",
    "edges_out = np.arange(-3,4,2)"
   ]
  },
  {
   "cell_type": "code",
   "execution_count": 35,
   "metadata": {
    "collapsed": false
   },
   "outputs": [],
   "source": [
    "hist_out = resample_binned(edges_out, edges_in, hist_in)"
   ]
  },
  {
   "cell_type": "code",
   "execution_count": 40,
   "metadata": {
    "collapsed": false
   },
   "outputs": [],
   "source": [
    "mdpt_in = 0.5 * (edges_in[1:] + edges_in[:-1])"
   ]
  },
  {
   "cell_type": "code",
   "execution_count": 46,
   "metadata": {
    "collapsed": false
   },
   "outputs": [
    {
     "data": {
      "image/png": "[encoded data removed]",
      "text/plain": [
       "<Figure size 432x288 with 1 Axes>"
      ]
     },
     "metadata": {},
     "output_type": "display_data"
    }
   ],
   "source": [
    "plt.hist(dat, bins=edges_in, alpha=0.3)\n",
    "plt.hist(dat, bins=edges_out, histtype='step', lw=2)\n",
    "plt.plot(mdpt_in, hist_in, '.')\n",
    "plt.show()"
   ]
  },
  {
   "cell_type": "markdown",
   "metadata": {},
   "source": [
    "Good - works as we would expect. Now I want to write my own downsampling function, do it the long way first so that I understand each step of what is going on. After this I will verify that I get the same result using `skysim.utils.resample_density()` then `skysim.utils.resample_binned()`. \n",
    "\n",
    "The first thing we need to do is to convert from flux density to counts. We do this by multiplying the flux by the bin width. Create `b_edges` so that the midpoint of each bin is centered on the values `b_wlen`.\n",
    "\n",
    "Note: some of the `b_flux` and `r_flux` values are nan's ... need to look into this (maybe has to do with how throughput is calculated for wavelength values that fall outside of the wavelength grid for each camera?)"
   ]
  },
  {
   "cell_type": "code",
   "execution_count": 133,
   "metadata": {
    "collapsed": false
   },
   "outputs": [
    {
     "name": "stdout",
     "output_type": "stream",
     "text": [
      "True\n"
     ]
    }
   ],
   "source": [
    "## Bin width\n",
    "b_diff = np.diff(b_wlen)\n",
    "print(np.all(b_diff[0] == b_diff))\n",
    "b_diff = b_diff[0]"
   ]
  },
  {
   "cell_type": "code",
   "execution_count": 134,
   "metadata": {
    "collapsed": true
   },
   "outputs": [],
   "source": [
    "## Define nominal bin edges\n",
    "b_edges = b_wlen - (0.5 * b_diff)\n",
    "b_edges = np.append(b_edges, b_edges[-1] + b_diff)\n",
    "b_edges = np.log10(b_edges)"
   ]
  },
  {
   "cell_type": "markdown",
   "metadata": {},
   "source": [
    "#### ** NEED TO FIX NAN ISSUE **"
   ]
  },
  {
   "cell_type": "code",
   "execution_count": 135,
   "metadata": {
    "collapsed": true
   },
   "outputs": [],
   "source": [
    "b_flux[np.isnan(b_flux)] = 0.0"
   ]
  },
  {
   "cell_type": "code",
   "execution_count": 136,
   "metadata": {
    "collapsed": true
   },
   "outputs": [],
   "source": [
    "b_counts = b_flux * b_diff\n",
    "## b_counts, b_edges is our simulation histogram"
   ]
  },
  {
   "cell_type": "code",
   "execution_count": 137,
   "metadata": {
    "collapsed": false
   },
   "outputs": [],
   "source": [
    "## Define eBOSS bin edges\n",
    "eboss_wlen = np.load('b_loglam.npy')\n",
    "eboss_diff = np.diff(eboss_wlen)\n",
    "eboss_diff_app = np.append(eboss_diff, eboss_diff[-1])\n",
    "eboss_edges = eboss_wlen - (0.5 * eboss_diff_app)\n",
    "eboss_edges = np.append(eboss_edges, eboss_edges[-1] + eboss_diff_app[-1])"
   ]
  },
  {
   "cell_type": "code",
   "execution_count": 138,
   "metadata": {
    "collapsed": false
   },
   "outputs": [],
   "source": [
    "idx_in_eboss = np.searchsorted(eboss_edges, b_edges)"
   ]
  },
  {
   "cell_type": "code",
   "execution_count": 139,
   "metadata": {
    "collapsed": false
   },
   "outputs": [],
   "source": [
    "output_hist = np.zeros_like(eboss_wlen)\n",
    "flux_right = 0\n",
    "prev_idx = -1\n",
    "\n",
    "for i in range(len(idx_in_eboss) - 1):\n",
    "    if np.isnan(output_hist[idx_in_eboss[i]]):\n",
    "        print(i)\n",
    "    output_hist[idx_in_eboss[i] - 1] += flux_right\n",
    "    if prev_idx == idx_in_eboss[i+1]:\n",
    "        output_hist[prev_idx - 1] += b_counts[i]\n",
    "    else:\n",
    "        diff = idx_in_eboss[i+1] - idx_in_eboss[i]\n",
    "        if diff == 0:\n",
    "            output_hist[idx_in_eboss[i] - 1] += b_counts[i]\n",
    "            flux_right = 0\n",
    "            prev_idx = idx_in_eboss[i]\n",
    "        elif diff > 0:\n",
    "            left = (eboss_edges[idx_in_eboss[i]] - b_edges[i]) / (b_edges[i+1] - b_edges[i])\n",
    "            right = 1 - left\n",
    "            flux_left = left * b_counts[i]\n",
    "            flux_right = right * b_counts[i]\n",
    "            #assert (flux_right + flux_left) == b_counts[i]\n",
    "            output_hist[idx_in_eboss[i] - 1] += flux_left"
   ]
  },
  {
   "cell_type": "code",
   "execution_count": 140,
   "metadata": {
    "collapsed": true
   },
   "outputs": [],
   "source": [
    "assert np.allclose(np.sum(output_hist), np.sum(b_counts))"
   ]
  },
  {
   "cell_type": "code",
   "execution_count": 88,
   "metadata": {
    "collapsed": true
   },
   "outputs": [],
   "source": [
    "fs = 14"
   ]
  },
  {
   "cell_type": "code",
   "execution_count": 459,
   "metadata": {
    "collapsed": false
   },
   "outputs": [
    {
     "data": {
      "image/png": "[encoded data removed]",
      "text/plain": [
       "<Figure size 720x504 with 1 Axes>"
      ]
     },
     "metadata": {},
     "output_type": "display_data"
    }
   ],
   "source": [
    "plt.figure(figsize=(10,7))\n",
    "plt.plot(eboss_wlen, output_hist, '.', label='eboss_downsampled')\n",
    "plt.plot(np.log10(b_wlen), b_counts, '.', label='specsim')\n",
    "plt.xlabel('wavelength [log10(A)]', fontsize=fs)\n",
    "plt.ylabel('counts [erg/cm2/s]', fontsize=fs)\n",
    "plt.legend(fontsize=fs)\n",
    "plt.show()"
   ]
  },
  {
   "cell_type": "markdown",
   "metadata": {},
   "source": [
    "Makes sense that it conserves flux even though it has higher counts at each wavelength because the wavelength grid is more sparse for the downsampled curve (specsim is more densely sampled)."
   ]
  },
  {
   "cell_type": "code",
   "execution_count": 513,
   "metadata": {
    "collapsed": false
   },
   "outputs": [
    {
     "data": {
      "image/png": "[encoded data removed]",
      "text/plain": [
       "<Figure size 720x504 with 1 Axes>"
      ]
     },
     "metadata": {},
     "output_type": "display_data"
    }
   ],
   "source": [
    "plt.figure(figsize=(10,7))\n",
    "plt.plot(eboss_wlen, output_hist / (10 ** np.diff(eboss_edges)), '.', label='eboss_downsampled')\n",
    "plt.plot(np.log10(b_wlen), b_flux, '.', label='specsim')\n",
    "plt.xlabel('wavelength [log10(A)]', fontsize=fs)\n",
    "plt.ylabel('flux density [erg/cm2/s/A]', fontsize=fs)\n",
    "plt.legend(fontsize=fs)\n",
    "plt.show()"
   ]
  },
  {
   "cell_type": "markdown",
   "metadata": {},
   "source": [
    "### Wrap everything into a single function"
   ]
  },
  {
   "cell_type": "code",
   "execution_count": 158,
   "metadata": {
    "collapsed": true
   },
   "outputs": [],
   "source": [
    "def downsample_to_eboss(wavelength_out, wavelength_in, flux_in):\n",
    "    \n",
    "    ## Get nominal bin width\n",
    "    diff_in = np.diff(wavelength_in)\n",
    "    ## Check that nominal grid is equally spaced \n",
    "    assert np.allclose(diff_in[0], diff_in, atol=0.0, rtol=1e-5)\n",
    "    diff_in = diff_in[0]\n",
    "    \n",
    "    ## Define nominal bin edges\n",
    "    edges_in = wavelength_in - (0.5 * diff_in)\n",
    "    edges_in = np.append(edges_in, edges_in[-1] + diff_in)\n",
    "    edges_in = np.log10(edges_in)\n",
    "    \n",
    "    \n",
    "    ## Define output bin edges\n",
    "    diff_out = np.diff(wavelength_out)\n",
    "    diff_out = np.append(diff_out, diff_out[-1])\n",
    "    edges_out = wavelength_out - (0.5 * diff_out)\n",
    "    edges_out = np.append(edges_out, edges_out[-1] + diff_out[-1])\n",
    "    edges_out = edges_out[::100]\n",
    "    \n",
    "    \n",
    "    ## Check that both grids are strictly increasing\n",
    "    assert np.all(edges_out == np.sort(edges_out))\n",
    "    assert np.all(edges_in == np.sort(edges_in))\n",
    "    ## Check that output grid covers the range of input grid \n",
    "    ## This is a necessary condition for flux conservation.\n",
    "    assert edges_out[0] < edges_in[0]\n",
    "    assert edges_out[-1] > edges_in[-1]\n",
    "    \n",
    "    ## Find index in out_edges where each element in in_edges \n",
    "    ## would fall in out_edges\n",
    "    idx_in_out = np.searchsorted(edges_out, edges_in)\n",
    "    \n",
    "    ## Convert from flux density (per unit Angstrom) to flux (counts)\n",
    "    ## First set nan elements to zero - this is temporary. Need to fix this.\n",
    "    flux_in[np.isnan(flux_in)] = 0.0\n",
    "    hist_in = flux_in * diff_in\n",
    "    \n",
    "    \n",
    "    hist_out = np.zeros(len(edges_out) - 1)\n",
    "    flux_right = 0\n",
    "    prev_idx = -1\n",
    "\n",
    "    for i in range(len(idx_in_out) - 1):\n",
    "        if np.isnan(hist_out[idx_in_out[i]]):\n",
    "            print(i)\n",
    "        hist_out[idx_in_out[i] - 1] += flux_right\n",
    "        if prev_idx == idx_in_out[i+1]:\n",
    "            hist_out[prev_idx - 1] += hist_in[i]\n",
    "        else:\n",
    "            diff = idx_in_out[i+1] - idx_in_out[i]\n",
    "            if diff == 0:\n",
    "                hist_out[idx_in_out[i] - 1] += hist_in[i]\n",
    "                flux_right = 0\n",
    "                prev_idx = idx_in_out[i]\n",
    "            elif diff > 0:\n",
    "                left = (edges_out[idx_in_out[i]] - edges_in[i]) / (edges_in[i+1] - edges_in[i])\n",
    "                right = 1 - left\n",
    "                flux_left = left * hist_in[i]\n",
    "                flux_right = right * hist_in[i]\n",
    "                assert np.allclose((flux_right + flux_left), hist_in[i])\n",
    "                hist_out[idx_in_out[i] - 1] += flux_left\n",
    "\n",
    "    ## Check if flux is conserved\n",
    "    assert np.allclose(np.sum(hist_out), np.sum(hist_in))\n",
    "    #return(hist_out, edges_out)\n",
    "    \n",
    "    ## Convert back from counts to flux density\n",
    "    flux_out = hist_out / (np.diff(10 ** edges_out))\n",
    "    return(edges_out, flux_out)"
   ]
  },
  {
   "cell_type": "code",
   "execution_count": 485,
   "metadata": {
    "collapsed": false
   },
   "outputs": [
    {
     "data": {
      "text/plain": [
       "(True, True)"
      ]
     },
     "execution_count": 485,
     "metadata": {},
     "output_type": "execute_result"
    }
   ],
   "source": [
    "test_eboss_counts, test_eboss_grid = downsample_to_eboss(eboss_wlen, b_wlen, b_flux)\n",
    "np.all(test_eboss_counts == output_hist), np.all(test_eboss_grid == eboss_edges)"
   ]
  },
  {
   "cell_type": "code",
   "execution_count": 141,
   "metadata": {
    "collapsed": false
   },
   "outputs": [
    {
     "data": {
      "text/plain": [
       "True"
      ]
     },
     "execution_count": 141,
     "metadata": {},
     "output_type": "execute_result"
    }
   ],
   "source": [
    "test_eboss_edges, test_eboss_flux = downsample_to_eboss(eboss_wlen, b_wlen, b_flux)\n",
    "np.all(test_eboss_flux == output_hist / (np.diff(10 ** eboss_edges)))"
   ]
  },
  {
   "cell_type": "code",
   "execution_count": 159,
   "metadata": {
    "collapsed": false
   },
   "outputs": [],
   "source": [
    "eboss_r_wlen = np.load('r_loglam.npy')\n",
    "eboss_r_edges, eboss_r_flux = downsample_to_eboss(eboss_r_wlen, r_wlen, r_flux)"
   ]
  },
  {
   "cell_type": "code",
   "execution_count": 160,
   "metadata": {
    "collapsed": true
   },
   "outputs": [],
   "source": [
    "mdpt = 0.5 * (eboss_r_edges[1:] + eboss_r_edges[:-1])"
   ]
  },
  {
   "cell_type": "code",
   "execution_count": 161,
   "metadata": {
    "collapsed": false
   },
   "outputs": [
    {
     "data": {
      "image/png": "[encoded data removed]",
      "text/plain": [
       "<matplotlib.figure.Figure at 0x182353cd30>"
      ]
     },
     "metadata": {},
     "output_type": "display_data"
    }
   ],
   "source": [
    "plt.figure(figsize=(10,7))\n",
    "plt.plot(np.log10(r_wlen), r_flux, '.', label='specsim')\n",
    "plt.plot(mdpt, eboss_r_flux, '.-', label='eboss_downsampled')\n",
    "plt.xlabel('wavelength [log10(A)]', fontsize=fs)\n",
    "plt.ylabel('flux density [erg/cm2/s/A]', fontsize=fs)\n",
    "plt.legend(fontsize=fs)\n",
    "plt.show()"
   ]
  },
  {
   "cell_type": "code",
   "execution_count": null,
   "metadata": {
    "collapsed": true
   },
   "outputs": [],
   "source": []
  }
 ],
 "metadata": {
  "kernelspec": {
   "display_name": "Python [default]",
   "language": "python",
   "name": "python3"
  },
  "language_info": {
   "codemirror_mode": {
    "name": "ipython",
    "version": 3
   },
   "file_extension": ".py",
   "mimetype": "text/x-python",
   "name": "python",
   "nbconvert_exporter": "python",
   "pygments_lexer": "ipython3",
   "version": "3.5.1"
  }
 },
 "nbformat": 4,
 "nbformat_minor": 1
}
