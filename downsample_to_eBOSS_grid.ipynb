{
 "cells": [
  {
   "cell_type": "markdown",
   "metadata": {},
   "source": [
    "### Downsample specsim output to log-10 A wavelength grid for eBOSS"
   ]
  },
  {
   "cell_type": "markdown",
   "metadata": {},
   "source": [
    "Notes: \n",
    "- need to update eBOSSConfigData nb on specsim sdss-branch to make sure padding on throughput data is done correctly\n",
    "- question about unequal wavelength grid widths for red and blue cameras \n",
    "- question about conditions on fwhm_resolution and neff_spatial in `camera.py`"
   ]
  },
  {
   "cell_type": "code",
   "execution_count": 1,
   "metadata": {
    "collapsed": false
   },
   "outputs": [
    {
     "name": "stdout",
     "output_type": "stream",
     "text": [
      "Populating the interactive namespace from numpy and matplotlib\n"
     ]
    }
   ],
   "source": [
    "%pylab inline"
   ]
  },
  {
   "cell_type": "code",
   "execution_count": 2,
   "metadata": {
    "collapsed": false
   },
   "outputs": [],
   "source": [
    "import specsim.simulator"
   ]
  },
  {
   "cell_type": "code",
   "execution_count": 3,
   "metadata": {
    "collapsed": false
   },
   "outputs": [
    {
     "name": "stderr",
     "output_type": "stream",
     "text": [
      "/Users/belaabolfathi/anaconda3/lib/python3.5/site-packages/speclite/filters.py:1466: FutureWarning: Using a non-tuple sequence for multidimensional indexing is deprecated; use `arr[tuple(seq)]` instead of `arr[seq]`. In the future this will be interpreted as an array index, `arr[np.array(seq)]`, which will result either in an error or a different result.\n",
      "  values_no_units = values_no_units[values_slice]\n"
     ]
    }
   ],
   "source": [
    "simulator = specsim.simulator.Simulator('eboss', num_fibers=1)\n",
    "simulator.atmosphere\n",
    "#simulator.instrument.fast_fiber_acceptance\n",
    "simulator.simulate()\n",
    "\n",
    "blue_output = simulator.camera_output[0]\n",
    "red_output = simulator.camera_output[1]\n",
    "\n",
    "sim = simulator.simulated\n",
    "\n",
    "b_wlen, r_wlen = blue_output['wavelength'], red_output['wavelength']\n",
    "b_flux, r_flux = blue_output['observed_flux'], red_output['observed_flux']"
   ]
  },
  {
   "cell_type": "code",
   "execution_count": 4,
   "metadata": {
    "collapsed": true
   },
   "outputs": [],
   "source": [
    "import os\n",
    "import astropy\n",
    "import scipy"
   ]
  },
  {
   "cell_type": "code",
   "execution_count": 5,
   "metadata": {
    "collapsed": false
   },
   "outputs": [],
   "source": [
    "self_wavelength = np.arange(3000.0, 10050.1, 0.1) * astropy.units.Unit('Angstrom')"
   ]
  },
  {
   "cell_type": "code",
   "execution_count": 6,
   "metadata": {
    "collapsed": false
   },
   "outputs": [],
   "source": [
    "config = specsim.config.load_config('eboss')"
   ]
  },
  {
   "cell_type": "code",
   "execution_count": 7,
   "metadata": {
    "collapsed": false
   },
   "outputs": [
    {
     "data": {
      "text/plain": [
       "array([0.        , 0.        , 0.        , ..., 0.11142972, 0.11140147,\n",
       "       0.11137322])"
      ]
     },
     "execution_count": 7,
     "metadata": {},
     "output_type": "execute_result"
    }
   ],
   "source": [
    "cameras = config.instrument.cameras\n",
    "camera = getattr(cameras, 'r')\n",
    "config.load_table(camera.throughput, 'throughput')"
   ]
  },
  {
   "cell_type": "markdown",
   "metadata": {},
   "source": [
    "Issue seems to be with `config.load_table()`."
   ]
  },
  {
   "cell_type": "code",
   "execution_count": 8,
   "metadata": {
    "collapsed": true
   },
   "outputs": [],
   "source": [
    "abs_base_path = '/Users/belaabolfathi/desi/code/specsim/specsim/data/'"
   ]
  },
  {
   "cell_type": "code",
   "execution_count": 9,
   "metadata": {
    "collapsed": true
   },
   "outputs": [],
   "source": [
    "parent = camera.throughput\n",
    "node = parent.table\n",
    "column_names = ['throughput']"
   ]
  },
  {
   "cell_type": "code",
   "execution_count": 10,
   "metadata": {
    "collapsed": false
   },
   "outputs": [],
   "source": [
    "required_names = column_names[:]"
   ]
  },
  {
   "cell_type": "code",
   "execution_count": 11,
   "metadata": {
    "collapsed": true
   },
   "outputs": [],
   "source": [
    "required_names.append('wavelength')\n",
    "required_names = sorted(required_names)"
   ]
  },
  {
   "cell_type": "code",
   "execution_count": 17,
   "metadata": {
    "collapsed": false
   },
   "outputs": [],
   "source": [
    "columns = node.columns\n",
    "config_column_names = sorted(columns.keys())"
   ]
  },
  {
   "cell_type": "code",
   "execution_count": 18,
   "metadata": {
    "collapsed": false
   },
   "outputs": [],
   "source": [
    "read_args = {}\n",
    "keys = node.keys()"
   ]
  },
  {
   "cell_type": "code",
   "execution_count": 19,
   "metadata": {
    "collapsed": false
   },
   "outputs": [],
   "source": [
    "paths = []\n",
    "path_keys = None\n",
    "paths.append(os.path.join(abs_base_path, node.path))"
   ]
  },
  {
   "cell_type": "code",
   "execution_count": 20,
   "metadata": {
    "collapsed": false
   },
   "outputs": [
    {
     "name": "stdout",
     "output_type": "stream",
     "text": [
      "Loaded 1001 rows from /Users/belaabolfathi/desi/code/specsim/specsim/data/sdss/eboss-thru-r.fits with args {}\n",
      "{'throughput': <Column name='throughput' dtype='float64' length=1001>\n",
      "0.0006651951075309871\n",
      "0.0007229431315360761\n",
      "0.0007869195071038338\n",
      "0.0008574811789817899\n",
      "0.0009451128198459081\n",
      "0.0010388740541794385\n",
      "0.0011585358918163532\n",
      " 0.001305980482656054\n",
      " 0.001477806491526785\n",
      "0.0016820998316783833\n",
      " 0.001936282272349631\n",
      "0.0022322127527134557\n",
      "                  ...\n",
      " 0.019029216543042852\n",
      " 0.019029216543042852\n",
      " 0.019029216543042852\n",
      " 0.019029216543042852\n",
      " 0.019029216543042852\n",
      " 0.019029216543042852\n",
      " 0.019029216543042852\n",
      " 0.019029216543042852\n",
      " 0.019029216543042852\n",
      " 0.019029216543042852\n",
      " 0.019029216543042852\n",
      " 0.019029216543042852, 'wavelength': <Column name='wavelength' dtype='int64' unit='Angstrom' length=1001>\n",
      " 5500\n",
      " 5510\n",
      " 5520\n",
      " 5530\n",
      " 5540\n",
      " 5550\n",
      " 5560\n",
      " 5570\n",
      " 5580\n",
      " 5590\n",
      " 5600\n",
      " 5610\n",
      "  ...\n",
      "10988\n",
      "10989\n",
      "10990\n",
      "10991\n",
      "10992\n",
      "10993\n",
      "10994\n",
      "10995\n",
      "10996\n",
      "10997\n",
      "10998\n",
      "10999}\n"
     ]
    }
   ],
   "source": [
    "tables = {}\n",
    "for i, path in enumerate(paths):\n",
    "    key = path_keys[i] if path_keys else 'default'\n",
    "    \n",
    "    with warnings.catch_warnings():\n",
    "                warnings.simplefilter(\n",
    "                    'ignore', category=astropy.units.core.UnitsWarning)\n",
    "                table = astropy.table.Table.read(path, **read_args)\n",
    "\n",
    "    ## Line 419\n",
    "    print('Loaded {0} rows from {1} with args {2}'\n",
    "              .format(len(table), path, read_args))\n",
    "    \n",
    "    loaded_columns = {}\n",
    "    for config_name in config_column_names:\n",
    "        column = getattr(columns, config_name)\n",
    "        #print(column)\n",
    "        column_data = table[column.name]\n",
    "        #print(column_data)\n",
    "        column_values = column_data.data\n",
    "        try:\n",
    "            column_unit = astropy.units.Unit(column.unit)\n",
    "        except AttributeError:\n",
    "                    column_unit = None\n",
    "        try:\n",
    "            override_unit = column.override_unit\n",
    "            assert override_unit in (True, False)\n",
    "        except AttributeError:\n",
    "            override_unit = False\n",
    "\n",
    "        if override_unit or column_data.unit is None:\n",
    "            if column_unit is not None:\n",
    "                # Assign the unit specified in our config.\n",
    "                column_data.unit = column_unit\n",
    "        else:\n",
    "            if ((column_unit is not None) and\n",
    "                (column_unit != column_data.unit)):\n",
    "                raise RuntimeError(\n",
    "                    'Units do not match for \"{0}\".'.format(column))\n",
    "        loaded_columns[config_name] = column_data\n",
    "    wavelength_column = loaded_columns['wavelength']\n",
    "    wavelength = wavelength_column.data * wavelength_column.unit\n",
    "    try:\n",
    "        fill_value = node.extrapolated_value\n",
    "        bounds_error = False\n",
    "    except AttributeError:\n",
    "        fill_value = None\n",
    "        bounds_error = True\n",
    "    \n",
    "    print(loaded_columns)\n",
    "    # Loop over other columns to interpolate onto our\n",
    "    # wavelength grid.\n",
    "    '''for column_name in column_names:\n",
    "        interpolator = scipy.interpolate.interp1d(\n",
    "            wavelength.value, loaded_columns[column_name].data,\n",
    "            kind='linear', copy=False,\n",
    "            bounds_error=bounds_error, fill_value=fill_value)\n",
    "        interpolated_values = interpolator(self_wavelength.value)\n",
    "        unit = loaded_columns[column_name].unit\n",
    "        if unit:\n",
    "            interpolated_values = interpolated_values * unit\n",
    "        loaded_columns[column_name] = interpolated_values\n",
    "        '''\n",
    "#print(loaded_columns)"
   ]
  },
  {
   "cell_type": "code",
   "execution_count": 21,
   "metadata": {
    "collapsed": false
   },
   "outputs": [
    {
     "data": {
      "image/png": "[encoded data removed]",
      "text/plain": [
       "<matplotlib.figure.Figure at 0x1821901ac8>"
      ]
     },
     "metadata": {},
     "output_type": "display_data"
    }
   ],
   "source": [
    "plt.plot(self_wavelength)\n",
    "plt.plot(wavelength.value)\n",
    "plt.show()"
   ]
  },
  {
   "cell_type": "code",
   "execution_count": 22,
   "metadata": {
    "collapsed": false
   },
   "outputs": [
    {
     "data": {
      "text/plain": [
       "1001"
      ]
     },
     "execution_count": 22,
     "metadata": {},
     "output_type": "execute_result"
    }
   ],
   "source": [
    "len(wavelength)"
   ]
  },
  {
   "cell_type": "code",
   "execution_count": 23,
   "metadata": {
    "collapsed": false
   },
   "outputs": [
    {
     "data": {
      "image/png": "[encoded data removed]",
      "text/plain": [
       "<matplotlib.figure.Figure at 0x18218ea6d8>"
      ]
     },
     "metadata": {},
     "output_type": "display_data"
    }
   ],
   "source": [
    "plt.plot(np.diff(wavelength))\n",
    "plt.show()"
   ]
  },
  {
   "cell_type": "code",
   "execution_count": 24,
   "metadata": {
    "collapsed": true
   },
   "outputs": [],
   "source": [
    "column_name = 'throughput'"
   ]
  },
  {
   "cell_type": "code",
   "execution_count": 33,
   "metadata": {
    "collapsed": false
   },
   "outputs": [],
   "source": [
    "interpolator = scipy.interpolate.interp1d(\n",
    "            wavelength.value, loaded_columns[column_name].data,\n",
    "            kind='linear', copy=False,\n",
    "            bounds_error=bounds_error, fill_value=fill_value)\n",
    "interpolated_values = interpolator(self_wavelength.value)"
   ]
  },
  {
   "cell_type": "code",
   "execution_count": 34,
   "metadata": {
    "collapsed": false
   },
   "outputs": [
    {
     "data": {
      "text/plain": [
       "1001"
      ]
     },
     "execution_count": 34,
     "metadata": {},
     "output_type": "execute_result"
    }
   ],
   "source": [
    "len(wavelength)"
   ]
  },
  {
   "cell_type": "code",
   "execution_count": 35,
   "metadata": {
    "collapsed": false
   },
   "outputs": [
    {
     "data": {
      "text/plain": [
       "(1001, 70501)"
      ]
     },
     "execution_count": 35,
     "metadata": {},
     "output_type": "execute_result"
    }
   ],
   "source": [
    "len(loaded_columns['throughput']), len(interpolated_values)"
   ]
  },
  {
   "cell_type": "code",
   "execution_count": 36,
   "metadata": {
    "collapsed": false
   },
   "outputs": [
    {
     "data": {
      "text/plain": [
       "(False, 0.0)"
      ]
     },
     "execution_count": 36,
     "metadata": {},
     "output_type": "execute_result"
    }
   ],
   "source": [
    "bounds_error, fill_value"
   ]
  },
  {
   "cell_type": "code",
   "execution_count": 37,
   "metadata": {
    "collapsed": false
   },
   "outputs": [
    {
     "data": {
      "text/plain": [
       "70501"
      ]
     },
     "execution_count": 37,
     "metadata": {},
     "output_type": "execute_result"
    }
   ],
   "source": [
    "len(self_wavelength.value)"
   ]
  },
  {
   "cell_type": "code",
   "execution_count": 38,
   "metadata": {
    "collapsed": false
   },
   "outputs": [
    {
     "data": {
      "text/plain": [
       "array([0.        , 0.        , 0.        , ..., 0.11142972, 0.11140147,\n",
       "       0.11137322])"
      ]
     },
     "execution_count": 38,
     "metadata": {},
     "output_type": "execute_result"
    }
   ],
   "source": [
    "interpolated_values"
   ]
  },
  {
   "cell_type": "code",
   "execution_count": 39,
   "metadata": {
    "collapsed": false
   },
   "outputs": [
    {
     "data": {
      "text/plain": [
       "array([25001, 25002, 25003, ..., 70498, 70499, 70500])"
      ]
     },
     "execution_count": 39,
     "metadata": {},
     "output_type": "execute_result"
    }
   ],
   "source": [
    "np.where(interpolated_values != 0)[0]"
   ]
  },
  {
   "cell_type": "code",
   "execution_count": 40,
   "metadata": {
    "collapsed": false
   },
   "outputs": [
    {
     "data": {
      "text/plain": [
       "array([0.        , 0.        , 0.        , ..., 0.11142972, 0.11140147,\n",
       "       0.11137322])"
      ]
     },
     "execution_count": 40,
     "metadata": {},
     "output_type": "execute_result"
    }
   ],
   "source": [
    "interpolated_values"
   ]
  },
  {
   "cell_type": "code",
   "execution_count": 31,
   "metadata": {
    "collapsed": false
   },
   "outputs": [
    {
     "data": {
      "image/png": "[encoded data removed]",
      "text/plain": [
       "<matplotlib.figure.Figure at 0x182341f0f0>"
      ]
     },
     "metadata": {},
     "output_type": "display_data"
    }
   ],
   "source": [
    "plt.plot(self_wavelength, interpolated_values, '.')\n",
    "plt.show()"
   ]
  },
  {
   "cell_type": "markdown",
   "metadata": {},
   "source": [
    "Check to see if throughput is nonzero where first element of row size is nonzero:"
   ]
  },
  {
   "cell_type": "code",
   "execution_count": 32,
   "metadata": {
    "collapsed": false
   },
   "outputs": [
    {
     "data": {
      "text/plain": [
       "70501"
      ]
     },
     "execution_count": 32,
     "metadata": {},
     "output_type": "execute_result"
    }
   ],
   "source": [
    "## Camera object\n",
    "len(simulator.instrument.cameras[1]._row_size)"
   ]
  },
  {
   "cell_type": "code",
   "execution_count": 33,
   "metadata": {
    "collapsed": false
   },
   "outputs": [
    {
     "data": {
      "text/plain": [
       "array([  109,   110,   111, ..., 41367, 41368, 41369])"
      ]
     },
     "execution_count": 33,
     "metadata": {},
     "output_type": "execute_result"
    }
   ],
   "source": [
    "np.where(simulator.instrument.cameras[0]._row_size > 0)[0]"
   ]
  },
  {
   "cell_type": "code",
   "execution_count": 99,
   "metadata": {
    "collapsed": false
   },
   "outputs": [
    {
     "data": {
      "text/plain": [
       "array([0., 0., 0., ..., 0., 0., 0.])"
      ]
     },
     "execution_count": 99,
     "metadata": {},
     "output_type": "execute_result"
    }
   ],
   "source": [
    "len(interpolated_values[109:25001]"
   ]
  },
  {
   "cell_type": "code",
   "execution_count": 106,
   "metadata": {
    "collapsed": false
   },
   "outputs": [
    {
     "data": {
      "text/plain": [
       "0.5"
      ]
     },
     "execution_count": 106,
     "metadata": {},
     "output_type": "execute_result"
    }
   ],
   "source": [
    "np.diff(red_output['wavelength'])[0]"
   ]
  },
  {
   "cell_type": "code",
   "execution_count": 107,
   "metadata": {
    "collapsed": false
   },
   "outputs": [
    {
     "data": {
      "text/plain": [
       "1.399021635601457"
      ]
     },
     "execution_count": 107,
     "metadata": {},
     "output_type": "execute_result"
    }
   ],
   "source": [
    "np.diff(astropy.table.Table.read(abs_base_path+'sdss/eboss-red.fits', format='fits')['wavelength'])[0]"
   ]
  },
  {
   "cell_type": "markdown",
   "metadata": {},
   "source": [
    "### End of debugging -- everything below stays in nb"
   ]
  },
  {
   "cell_type": "code",
   "execution_count": 4,
   "metadata": {
    "collapsed": true
   },
   "outputs": [],
   "source": [
    "eboss_wlen = np.load('b_loglam.npy')"
   ]
  },
  {
   "cell_type": "markdown",
   "metadata": {},
   "source": [
    "### Test cases for resampled functions (sanity check)"
   ]
  },
  {
   "cell_type": "code",
   "execution_count": 5,
   "metadata": {
    "collapsed": true
   },
   "outputs": [],
   "source": [
    "def resample_binned(edges_out, edges_in, hist_in, axis=-1, zero_pad=True):\n",
    "    \"\"\"Flux conserving linear resampler of binned data.\n",
    "    Parameters\n",
    "    ----------\n",
    "    edges_out : array\n",
    "        1D array of M >= 2 output bin edges, in increasing order.\n",
    "    edges_in : array\n",
    "        1D array of N >= 2 input bin edges, in increasing order.\n",
    "    hist_in : array\n",
    "        Array with N-1 input bin values indexed by the specified axis.\n",
    "    axis : int\n",
    "        Axis of hist_in used to index input histogram values.\n",
    "    zero_pad : bool\n",
    "        When True, allow the output edges to extend beyond the input\n",
    "        edges and assume that the input histogram is zero outside of\n",
    "        its extent.  When False, raises a ValueError if extrapolation\n",
    "        would be required.\n",
    "    Returns\n",
    "    -------\n",
    "    array\n",
    "        1D array of M-1 resampled bin values.\n",
    "    \"\"\"\n",
    "    # Check input 1D arrays.\n",
    "    edges_out = np.asarray(edges_out)\n",
    "    edges_in = np.asarray(edges_in)\n",
    "    if edges_out.ndim != 1:\n",
    "        raise ValueError('Expected 1D edges_out.')\n",
    "    if edges_in.ndim != 1:\n",
    "        raise ValueError('Expected 1D edges_in.')\n",
    "    if len(edges_out) < 2:\n",
    "        raise ValueError('Need at least one output bin.')\n",
    "    if len(edges_in) < 2:\n",
    "        raise ValueError('Need at least one input bin.')\n",
    "    binsize_out = np.diff(edges_out)\n",
    "    if np.any(binsize_out <= 0):\n",
    "        raise ValueError('Expecting increasing edges_out.')\n",
    "    binsize_in = np.diff(edges_in)\n",
    "    if np.any(binsize_in <= 0):\n",
    "        raise ValueError('Expecting increasing edges_in.')\n",
    "    if not zero_pad and ((edges_out[0] < edges_in[0]) or\n",
    "                         (edges_out[-1] > edges_in[-1])):\n",
    "        raise ValueError(\n",
    "            'Ouput bins extend beyond input bins but zero_pad is False.')\n",
    "    if (edges_out[0] >= edges_in[-1]) or (edges_out[-1] <= edges_in[0]):\n",
    "        raise ValueError('Input and output bins do not overlap.')\n",
    "    # Check input histogram(s) and put index in axis 0. Note that we\n",
    "    # use moveaxis instead of rollaxis since it is easier to invert.\n",
    "    hist_in = np.asarray(hist_in)\n",
    "    hist_in_rolled = np.moveaxis(hist_in, axis, 0)\n",
    "    if len(hist_in_rolled) != len(edges_in) - 1:\n",
    "        raise ValueError(\n",
    "            'Unexpected length of hist_in along axis {}.'.format(axis))\n",
    "    # Align output edges to input edges.\n",
    "    idx = np.searchsorted(edges_in, edges_out)\n",
    "    # Loop over output bins.\n",
    "    nin = len(edges_in) - 1\n",
    "    nout = len(edges_out) - 1\n",
    "    hist_out_rolled_shape = (nout,) + hist_in_rolled.shape[1:]\n",
    "    hist_out_rolled = np.zeros(hist_out_rolled_shape)\n",
    "    hi = idx[0]\n",
    "    for i in range(nout):\n",
    "        lo = hi\n",
    "        hi = idx[i + 1]\n",
    "        if (lo > nin) or (hi == 0):\n",
    "            # This bin does not overlap the input.\n",
    "            continue\n",
    "        if lo == hi:\n",
    "            # Output bin is fully embedded within an input bin:\n",
    "            # give it a linear share.\n",
    "            hist_out_rolled[i] = (\n",
    "                binsize_out[i] / binsize_in[lo - 1] * hist_in_rolled[lo - 1])\n",
    "            continue\n",
    "        # Calculate fraction of first input bin overlapping this output bin.\n",
    "        if lo > 0:\n",
    "            hist_out_rolled[i] += (\n",
    "                hist_in_rolled[lo - 1] / binsize_in[lo - 1] * (\n",
    "                    edges_in[lo] - edges_out[i]))\n",
    "        # Calculate fraction of last input bin overlaping this output bin.\n",
    "        if hi <= nin:\n",
    "            hist_out_rolled[i] += (\n",
    "                hist_in_rolled[hi - 1] / binsize_in[hi - 1] * (\n",
    "                    edges_out[i + 1] - edges_in[hi - 1]))\n",
    "        # Add input bins fully contained within this output bin.\n",
    "        if hi > lo + 1:\n",
    "            hist_out_rolled[i] += np.sum(hist_in_rolled[lo:hi - 1], axis=0)\n",
    "    # Return our unrolled output histogram.\n",
    "    return np.moveaxis(hist_out_rolled, axis, 0)"
   ]
  },
  {
   "cell_type": "code",
   "execution_count": 34,
   "metadata": {
    "collapsed": true
   },
   "outputs": [],
   "source": [
    "dat = np.random.normal(loc=0, scale=1.0, size=100)\n",
    "edges_in = np.arange(-3,4,1)\n",
    "hist_in, _ = np.histogram(dat, edges_in)\n",
    "edges_out = np.arange(-3,4,2)"
   ]
  },
  {
   "cell_type": "code",
   "execution_count": 35,
   "metadata": {
    "collapsed": false
   },
   "outputs": [],
   "source": [
    "hist_out = resample_binned(edges_out, edges_in, hist_in)"
   ]
  },
  {
   "cell_type": "code",
   "execution_count": 40,
   "metadata": {
    "collapsed": false
   },
   "outputs": [],
   "source": [
    "mdpt_in = 0.5 * (edges_in[1:] + edges_in[:-1])"
   ]
  },
  {
   "cell_type": "code",
   "execution_count": 46,
   "metadata": {
    "collapsed": false
   },
   "outputs": [
    {
     "data": {
      "image/png": "[encoded data removed]",
      "text/plain": [
       "<Figure size 432x288 with 1 Axes>"
      ]
     },
     "metadata": {},
     "output_type": "display_data"
    }
   ],
   "source": [
    "plt.hist(dat, bins=edges_in, alpha=0.3)\n",
    "plt.hist(dat, bins=edges_out, histtype='step', lw=2)\n",
    "plt.plot(mdpt_in, hist_in, '.')\n",
    "plt.show()"
   ]
  },
  {
   "cell_type": "markdown",
   "metadata": {},
   "source": [
    "Good - works as we would expect. Now I want to write my own downsampling function, do it the long way first so that I understand each step of what is going on. After this I will verify that I get the same result using `skysim.utils.resample_density()` then `skysim.utils.resample_binned()`. \n",
    "\n",
    "The first thing we need to do is to convert from flux density to counts. We do this by multiplying the flux by the bin width. Create `b_edges` so that the midpoint of each bin is centered on the values `b_wlen`.\n",
    "\n",
    "Note: some of the `b_flux` and `r_flux` values are nan's ... need to look into this (maybe has to do with how throughput is calculated for wavelength values that fall outside of the wavelength grid for each camera?)"
   ]
  },
  {
   "cell_type": "code",
   "execution_count": 12,
   "metadata": {
    "collapsed": false
   },
   "outputs": [
    {
     "name": "stdout",
     "output_type": "stream",
     "text": [
      "True\n"
     ]
    }
   ],
   "source": [
    "## Bin width\n",
    "b_diff = np.diff(b_wlen)\n",
    "print(np.all(b_diff[0] == b_diff))\n",
    "b_diff = b_diff[0]"
   ]
  },
  {
   "cell_type": "code",
   "execution_count": 13,
   "metadata": {
    "collapsed": true
   },
   "outputs": [],
   "source": [
    "## Define nominal bin edges\n",
    "b_edges = b_wlen - (0.5 * b_diff)\n",
    "b_edges = np.append(b_edges, b_edges[-1] + b_diff)\n",
    "b_edges = np.log10(b_edges)"
   ]
  },
  {
   "cell_type": "markdown",
   "metadata": {},
   "source": [
    "#### ** NEED TO FIX NAN ISSUE ** \n",
    "\n",
    "Note: not an issue anymore since changes in `ccd_start` and `ccd_stop` conditions were made to `camera.py`."
   ]
  },
  {
   "cell_type": "code",
   "execution_count": 14,
   "metadata": {
    "collapsed": true
   },
   "outputs": [],
   "source": [
    "#b_flux[np.isnan(b_flux)] = 0.0"
   ]
  },
  {
   "cell_type": "code",
   "execution_count": 17,
   "metadata": {
    "collapsed": false
   },
   "outputs": [],
   "source": [
    "b_counts = b_flux * b_diff\n",
    "## b_counts, b_edges is our simulation histogram"
   ]
  },
  {
   "cell_type": "code",
   "execution_count": 18,
   "metadata": {
    "collapsed": false
   },
   "outputs": [],
   "source": [
    "## Define eBOSS bin edges\n",
    "eboss_wlen = np.load('b_loglam.npy')\n",
    "eboss_diff = np.diff(eboss_wlen)\n",
    "eboss_diff_app = np.append(eboss_diff, eboss_diff[-1])\n",
    "eboss_edges = eboss_wlen - (0.5 * eboss_diff_app)\n",
    "eboss_edges = np.append(eboss_edges, eboss_edges[-1] + eboss_diff_app[-1])"
   ]
  },
  {
   "cell_type": "code",
   "execution_count": 19,
   "metadata": {
    "collapsed": false
   },
   "outputs": [],
   "source": [
    "idx_in_eboss = np.searchsorted(eboss_edges, b_edges)"
   ]
  },
  {
   "cell_type": "code",
   "execution_count": 20,
   "metadata": {
    "collapsed": false
   },
   "outputs": [],
   "source": [
    "output_hist = np.zeros_like(eboss_wlen)\n",
    "flux_right = 0\n",
    "prev_idx = -1\n",
    "\n",
    "for i in range(len(idx_in_eboss) - 1):\n",
    "    if np.isnan(output_hist[idx_in_eboss[i]]):\n",
    "        print(i)\n",
    "    output_hist[idx_in_eboss[i] - 1] += flux_right\n",
    "    if prev_idx == idx_in_eboss[i+1]:\n",
    "        output_hist[prev_idx - 1] += b_counts[i]\n",
    "    else:\n",
    "        diff = idx_in_eboss[i+1] - idx_in_eboss[i]\n",
    "        if diff == 0:\n",
    "            output_hist[idx_in_eboss[i] - 1] += b_counts[i]\n",
    "            flux_right = 0\n",
    "            prev_idx = idx_in_eboss[i]\n",
    "        elif diff > 0:\n",
    "            left = (eboss_edges[idx_in_eboss[i]] - b_edges[i]) / (b_edges[i+1] - b_edges[i])\n",
    "            right = 1 - left\n",
    "            flux_left = left * b_counts[i]\n",
    "            flux_right = right * b_counts[i]\n",
    "            #assert (flux_right + flux_left) == b_counts[i]\n",
    "            output_hist[idx_in_eboss[i] - 1] += flux_left"
   ]
  },
  {
   "cell_type": "code",
   "execution_count": 21,
   "metadata": {
    "collapsed": true
   },
   "outputs": [],
   "source": [
    "assert np.allclose(np.sum(output_hist), np.sum(b_counts))"
   ]
  },
  {
   "cell_type": "code",
   "execution_count": 22,
   "metadata": {
    "collapsed": true
   },
   "outputs": [],
   "source": [
    "fs = 14"
   ]
  },
  {
   "cell_type": "code",
   "execution_count": 23,
   "metadata": {
    "collapsed": false
   },
   "outputs": [
    {
     "data": {
      "image/png": "[encoded data removed]",
      "text/plain": [
       "<matplotlib.figure.Figure at 0x1822211160>"
      ]
     },
     "metadata": {},
     "output_type": "display_data"
    }
   ],
   "source": [
    "plt.figure(figsize=(10,7))\n",
    "plt.plot(eboss_wlen, output_hist, '.', label='eboss_downsampled')\n",
    "plt.plot(np.log10(b_wlen), b_counts, '.', label='specsim')\n",
    "plt.xlabel('wavelength [log10(A)]', fontsize=fs)\n",
    "plt.ylabel('counts [erg/cm2/s]', fontsize=fs)\n",
    "plt.legend(fontsize=fs)\n",
    "plt.show()"
   ]
  },
  {
   "cell_type": "markdown",
   "metadata": {},
   "source": [
    "Makes sense that it conserves flux even though it has higher counts at each wavelength because the wavelength grid is more sparse for the downsampled curve (specsim is more densely sampled)."
   ]
  },
  {
   "cell_type": "code",
   "execution_count": 24,
   "metadata": {
    "collapsed": false
   },
   "outputs": [
    {
     "data": {
      "image/png": "[encoded data removed]",
      "text/plain": [
       "<matplotlib.figure.Figure at 0x1822d85390>"
      ]
     },
     "metadata": {},
     "output_type": "display_data"
    }
   ],
   "source": [
    "plt.figure(figsize=(10,7))\n",
    "plt.plot(eboss_wlen, output_hist / (np.diff(10 ** eboss_edges)), '.', label='eboss_downsampled')\n",
    "plt.plot(np.log10(b_wlen), b_flux, '.', label='specsim')\n",
    "plt.xlabel('wavelength [log10(A)]', fontsize=fs)\n",
    "plt.ylabel('flux density [erg/cm2/s/A]', fontsize=fs)\n",
    "plt.legend(fontsize=fs)\n",
    "plt.show()"
   ]
  },
  {
   "cell_type": "markdown",
   "metadata": {},
   "source": [
    "Need to exclude wavelengths where there is no flux data in downsampled grid. I do this in the function below."
   ]
  },
  {
   "cell_type": "markdown",
   "metadata": {},
   "source": [
    "### Wrap everything into a single function"
   ]
  },
  {
   "cell_type": "code",
   "execution_count": 26,
   "metadata": {
    "collapsed": true
   },
   "outputs": [],
   "source": [
    "def downsample_to_eboss(wavelength_out, wavelength_in, flux_in):\n",
    "    \n",
    "    ## Get nominal bin width\n",
    "    diff_in = np.diff(wavelength_in)\n",
    "    ## Check that nominal grid is equally spaced \n",
    "    assert np.allclose(diff_in[0], diff_in, atol=0.0, rtol=1e-5)\n",
    "    diff_in = diff_in[0]\n",
    "    \n",
    "    ## Define nominal bin edges\n",
    "    edges_in = wavelength_in - (0.5 * diff_in)\n",
    "    edges_in = np.append(edges_in, edges_in[-1] + diff_in)\n",
    "    edges_in = np.log10(edges_in)\n",
    "    \n",
    "    ## Define output bin edges\n",
    "    diff_out = np.diff(wavelength_out)\n",
    "    diff_out = np.append(diff_out, diff_out[-1])\n",
    "    edges_out = wavelength_out - (0.5 * diff_out)\n",
    "    edges_out = np.append(edges_out, edges_out[-1] + diff_out[-1])\n",
    "    #edges_out = edges_out[::10]\n",
    "    \n",
    "    \n",
    "    ## Check that both grids are strictly increasing\n",
    "    assert np.all(edges_out == np.sort(edges_out))\n",
    "    assert np.all(edges_in == np.sort(edges_in))\n",
    "    ## Check that output grid covers the range of input grid \n",
    "    ## This is a necessary condition for flux conservation.\n",
    "    assert edges_out[0] < edges_in[0]\n",
    "    assert edges_out[-1] > edges_in[-1]\n",
    "    \n",
    "    ## Find index in out_edges where each element in in_edges \n",
    "    ## would fall in out_edges\n",
    "    idx_in_out = np.searchsorted(edges_out, edges_in)\n",
    "        \n",
    "    ## Convert from flux density (per unit Angstrom) to flux (counts)\n",
    "    ## First set nan elements to zero - this is temporary. Need to fix this.\n",
    "    flux_in[np.isnan(flux_in)] = 0.0\n",
    "    hist_in = flux_in * diff_in\n",
    "    \n",
    "    \n",
    "    hist_out = np.zeros(len(edges_out) - 1)\n",
    "    flux_right = 0\n",
    "    prev_idx = -1\n",
    "\n",
    "    for i in range(len(idx_in_out) - 1):\n",
    "        if np.isnan(hist_out[idx_in_out[i]]):\n",
    "            print(i)\n",
    "        hist_out[idx_in_out[i] - 1] += flux_right\n",
    "        if prev_idx == idx_in_out[i+1]:\n",
    "            hist_out[prev_idx - 1] += hist_in[i]\n",
    "        else:\n",
    "            diff = idx_in_out[i+1] - idx_in_out[i]\n",
    "            if diff == 0:\n",
    "                hist_out[idx_in_out[i] - 1] += hist_in[i]\n",
    "                flux_right = 0\n",
    "                prev_idx = idx_in_out[i]\n",
    "            elif diff > 0:\n",
    "                left = (edges_out[idx_in_out[i]] - edges_in[i]) / (edges_in[i+1] - edges_in[i])\n",
    "                right = 1 - left\n",
    "                flux_left = left * hist_in[i]\n",
    "                flux_right = right * hist_in[i]\n",
    "                assert np.allclose((flux_right + flux_left), hist_in[i])\n",
    "                hist_out[idx_in_out[i] - 1] += flux_left\n",
    "\n",
    "    ## Check if flux is conserved\n",
    "    assert np.allclose(np.sum(hist_out), np.sum(hist_in))\n",
    "    #return(hist_out, edges_out)\n",
    "    \n",
    "    ## Convert back from counts to flux density\n",
    "    flux_out = hist_out / (np.diff(10 ** edges_out))\n",
    "    ## Only return values within range of simulation wavelength grid\n",
    "    start = idx_in_out[0]\n",
    "    stop = idx_in_out[-1]\n",
    "    return(edges_out[start:stop], flux_out[start:stop-1])"
   ]
  },
  {
   "cell_type": "markdown",
   "metadata": {},
   "source": [
    "#### Sanity checks from an earlier version of the downsampling function"
   ]
  },
  {
   "cell_type": "code",
   "execution_count": 485,
   "metadata": {
    "collapsed": false
   },
   "outputs": [
    {
     "data": {
      "text/plain": [
       "(True, True)"
      ]
     },
     "execution_count": 485,
     "metadata": {},
     "output_type": "execute_result"
    }
   ],
   "source": [
    "test_eboss_counts, test_eboss_grid = downsample_to_eboss(eboss_wlen, b_wlen, b_flux)\n",
    "np.all(test_eboss_counts == output_hist), np.all(test_eboss_grid == eboss_edges)"
   ]
  },
  {
   "cell_type": "code",
   "execution_count": 141,
   "metadata": {
    "collapsed": false
   },
   "outputs": [
    {
     "data": {
      "text/plain": [
       "True"
      ]
     },
     "execution_count": 141,
     "metadata": {},
     "output_type": "execute_result"
    }
   ],
   "source": [
    "test_eboss_edges, test_eboss_flux = downsample_to_eboss(eboss_wlen, b_wlen, b_flux)\n",
    "np.all(test_eboss_flux == output_hist / (np.diff(10 ** eboss_edges)))"
   ]
  },
  {
   "cell_type": "markdown",
   "metadata": {},
   "source": [
    "## Test to see if it's working properly"
   ]
  },
  {
   "cell_type": "code",
   "execution_count": 27,
   "metadata": {
    "collapsed": false
   },
   "outputs": [],
   "source": [
    "eboss_r_wlen = np.load('r_loglam.npy')\n",
    "eboss_r_edges, eboss_r_flux = downsample_to_eboss(eboss_r_wlen, r_wlen, r_flux)\n",
    "\n",
    "eboss_b_wlen = np.load('b_loglam.npy')\n",
    "eboss_b_edges, eboss_b_flux = downsample_to_eboss(eboss_b_wlen, b_wlen, b_flux)\n",
    "\n",
    "r_mdpt = 0.5 * (eboss_r_edges[1:] + eboss_r_edges[:-1])\n",
    "b_mdpt = 0.5 * (eboss_b_edges[1:] + eboss_b_edges[:-1])"
   ]
  },
  {
   "cell_type": "markdown",
   "metadata": {},
   "source": [
    "### Flux density"
   ]
  },
  {
   "cell_type": "code",
   "execution_count": 39,
   "metadata": {
    "collapsed": false
   },
   "outputs": [
    {
     "data": {
      "image/png": "[encoded data removed]",
      "text/plain": [
       "<matplotlib.figure.Figure at 0x1825bcc9b0>"
      ]
     },
     "metadata": {},
     "output_type": "display_data"
    }
   ],
   "source": [
    "fig, axs = plt.subplots(1,2, figsize=(20,7), sharey=True)\n",
    "axs = axs.ravel()\n",
    "\n",
    "axs[0].plot(np.log10(b_wlen), b_flux, '.', c='b', label='specsim')\n",
    "axs[0].plot(b_mdpt, eboss_b_flux, '.-', alpha=0.3, c='c', label='eboss_downsampled')\n",
    "axs[0].set_xlabel('wavelength [log10(A)]', fontsize=fs)\n",
    "axs[0].set_ylabel('flux density [erg/cm2/s/A]', fontsize=fs)\n",
    "axs[0].set_title('Blue Camera', fontsize=fs)\n",
    "axs[0].legend(fontsize=fs)\n",
    "\n",
    "axs[1].plot(np.log10(r_wlen), r_flux, '.', c='r', label='specsim')\n",
    "axs[1].plot(r_mdpt, eboss_r_flux, '.-', alpha=0.3, c='m', label='eboss_downsampled')\n",
    "axs[1].set_xlabel('wavelength [log10(A)]', fontsize=fs)\n",
    "axs[1].set_title('Red Camera', fontsize=fs)\n",
    "axs[1].legend(fontsize=fs)\n",
    "\n",
    "plt.tight_layout()\n",
    "plt.show()"
   ]
  },
  {
   "cell_type": "code",
   "execution_count": 37,
   "metadata": {
    "collapsed": false
   },
   "outputs": [
    {
     "data": {
      "image/png": "[encoded data removed]",
      "text/plain": [
       "<matplotlib.figure.Figure at 0x18264b52e8>"
      ]
     },
     "metadata": {},
     "output_type": "display_data"
    }
   ],
   "source": [
    "plt.figure(figsize=(12,7))\n",
    "plt.plot(np.log10(b_wlen), b_flux, '.', c='b', label='specsim (blue)')\n",
    "plt.plot(b_mdpt, eboss_b_flux, '.-', alpha=0.3, c='c', label='eboss_downsampled (blue)')\n",
    "plt.plot(np.log10(r_wlen), r_flux, '.', c='r', label='specsim (red)')\n",
    "plt.plot(r_mdpt, eboss_r_flux, '.-', alpha=0.3, c='m', label='eboss_downsampled (red)')\n",
    "plt.xlabel('wavelength [log10(A)]', fontsize=fs)\n",
    "plt.ylabel('flux density [erg/cm2/s/A]', fontsize=fs)\n",
    "plt.legend(fontsize=fs)\n",
    "plt.show()"
   ]
  },
  {
   "cell_type": "markdown",
   "metadata": {},
   "source": [
    "## Is flux conserved?"
   ]
  },
  {
   "cell_type": "code",
   "execution_count": 45,
   "metadata": {
    "collapsed": false
   },
   "outputs": [
    {
     "name": "stdout",
     "output_type": "stream",
     "text": [
      "True\n",
      "True\n"
     ]
    }
   ],
   "source": [
    "print(np.allclose(np.sum(b_flux), np.sum(eboss_b_flux)))\n",
    "print(np.allclose(np.sum(r_flux), np.sum(eboss_r_flux)))"
   ]
  },
  {
   "cell_type": "code",
   "execution_count": null,
   "metadata": {
    "collapsed": true
   },
   "outputs": [],
   "source": []
  }
 ],
 "metadata": {
  "kernelspec": {
   "display_name": "Python [default]",
   "language": "python",
   "name": "python3"
  },
  "language_info": {
   "codemirror_mode": {
    "name": "ipython",
    "version": 3
   },
   "file_extension": ".py",
   "mimetype": "text/x-python",
   "name": "python",
   "nbconvert_exporter": "python",
   "pygments_lexer": "ipython3",
   "version": "3.5.1"
  }
 },
 "nbformat": 4,
 "nbformat_minor": 1
}
