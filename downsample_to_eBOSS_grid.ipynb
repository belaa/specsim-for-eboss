{
 "cells": [
  {
   "cell_type": "code",
   "execution_count": 1,
   "metadata": {
    "collapsed": false
   },
   "outputs": [
    {
     "name": "stdout",
     "output_type": "stream",
     "text": [
      "Populating the interactive namespace from numpy and matplotlib\n"
     ]
    }
   ],
   "source": [
    "%pylab inline"
   ]
  },
  {
   "cell_type": "code",
   "execution_count": 2,
   "metadata": {
    "collapsed": true
   },
   "outputs": [],
   "source": [
    "import specsim.simulator"
   ]
  },
  {
   "cell_type": "code",
   "execution_count": 3,
   "metadata": {
    "collapsed": false
   },
   "outputs": [
    {
     "name": "stderr",
     "output_type": "stream",
     "text": [
      "/Users/belaabolfathi/anaconda3/envs/galsim/lib/python3.6/site-packages/speclite/filters.py:1461: FutureWarning: Using a non-tuple sequence for multidimensional indexing is deprecated; use `arr[tuple(seq)]` instead of `arr[seq]`. In the future this will be interpreted as an array index, `arr[np.array(seq)]`, which will result either in an error or a different result.\n",
      "  values_no_units = values_no_units[values_slice]\n"
     ]
    }
   ],
   "source": [
    "simulator = specsim.simulator.Simulator('eboss', num_fibers=1)\n",
    "simulator.atmosphere\n",
    "simulator.simulate()\n",
    "\n",
    "blue_output = simulator.camera_output[0]\n",
    "red_output = simulator.camera_output[1]\n",
    "\n",
    "sim = simulator.simulated\n",
    "\n",
    "b_wlen, r_wlen = blue_output['wavelength'], red_output['wavelength']\n",
    "b_flux, r_flux = blue_output['observed_flux'], red_output['observed_flux']"
   ]
  },
  {
   "cell_type": "code",
   "execution_count": 4,
   "metadata": {
    "collapsed": true
   },
   "outputs": [],
   "source": [
    "eboss_wlen = np.load('b_loglam.npy')"
   ]
  },
  {
   "cell_type": "markdown",
   "metadata": {},
   "source": [
    "### Test cases for resampled functions (sanity check)"
   ]
  },
  {
   "cell_type": "code",
   "execution_count": 5,
   "metadata": {
    "collapsed": true
   },
   "outputs": [],
   "source": [
    "def resample_binned(edges_out, edges_in, hist_in, axis=-1, zero_pad=True):\n",
    "    \"\"\"Flux conserving linear resampler of binned data.\n",
    "    Parameters\n",
    "    ----------\n",
    "    edges_out : array\n",
    "        1D array of M >= 2 output bin edges, in increasing order.\n",
    "    edges_in : array\n",
    "        1D array of N >= 2 input bin edges, in increasing order.\n",
    "    hist_in : array\n",
    "        Array with N-1 input bin values indexed by the specified axis.\n",
    "    axis : int\n",
    "        Axis of hist_in used to index input histogram values.\n",
    "    zero_pad : bool\n",
    "        When True, allow the output edges to extend beyond the input\n",
    "        edges and assume that the input histogram is zero outside of\n",
    "        its extent.  When False, raises a ValueError if extrapolation\n",
    "        would be required.\n",
    "    Returns\n",
    "    -------\n",
    "    array\n",
    "        1D array of M-1 resampled bin values.\n",
    "    \"\"\"\n",
    "    # Check input 1D arrays.\n",
    "    edges_out = np.asarray(edges_out)\n",
    "    edges_in = np.asarray(edges_in)\n",
    "    if edges_out.ndim != 1:\n",
    "        raise ValueError('Expected 1D edges_out.')\n",
    "    if edges_in.ndim != 1:\n",
    "        raise ValueError('Expected 1D edges_in.')\n",
    "    if len(edges_out) < 2:\n",
    "        raise ValueError('Need at least one output bin.')\n",
    "    if len(edges_in) < 2:\n",
    "        raise ValueError('Need at least one input bin.')\n",
    "    binsize_out = np.diff(edges_out)\n",
    "    if np.any(binsize_out <= 0):\n",
    "        raise ValueError('Expecting increasing edges_out.')\n",
    "    binsize_in = np.diff(edges_in)\n",
    "    if np.any(binsize_in <= 0):\n",
    "        raise ValueError('Expecting increasing edges_in.')\n",
    "    if not zero_pad and ((edges_out[0] < edges_in[0]) or\n",
    "                         (edges_out[-1] > edges_in[-1])):\n",
    "        raise ValueError(\n",
    "            'Ouput bins extend beyond input bins but zero_pad is False.')\n",
    "    if (edges_out[0] >= edges_in[-1]) or (edges_out[-1] <= edges_in[0]):\n",
    "        raise ValueError('Input and output bins do not overlap.')\n",
    "    # Check input histogram(s) and put index in axis 0. Note that we\n",
    "    # use moveaxis instead of rollaxis since it is easier to invert.\n",
    "    hist_in = np.asarray(hist_in)\n",
    "    hist_in_rolled = np.moveaxis(hist_in, axis, 0)\n",
    "    if len(hist_in_rolled) != len(edges_in) - 1:\n",
    "        raise ValueError(\n",
    "            'Unexpected length of hist_in along axis {}.'.format(axis))\n",
    "    # Align output edges to input edges.\n",
    "    idx = np.searchsorted(edges_in, edges_out)\n",
    "    # Loop over output bins.\n",
    "    nin = len(edges_in) - 1\n",
    "    nout = len(edges_out) - 1\n",
    "    hist_out_rolled_shape = (nout,) + hist_in_rolled.shape[1:]\n",
    "    hist_out_rolled = np.zeros(hist_out_rolled_shape)\n",
    "    hi = idx[0]\n",
    "    for i in range(nout):\n",
    "        lo = hi\n",
    "        hi = idx[i + 1]\n",
    "        if (lo > nin) or (hi == 0):\n",
    "            # This bin does not overlap the input.\n",
    "            continue\n",
    "        if lo == hi:\n",
    "            # Output bin is fully embedded within an input bin:\n",
    "            # give it a linear share.\n",
    "            hist_out_rolled[i] = (\n",
    "                binsize_out[i] / binsize_in[lo - 1] * hist_in_rolled[lo - 1])\n",
    "            continue\n",
    "        # Calculate fraction of first input bin overlapping this output bin.\n",
    "        if lo > 0:\n",
    "            hist_out_rolled[i] += (\n",
    "                hist_in_rolled[lo - 1] / binsize_in[lo - 1] * (\n",
    "                    edges_in[lo] - edges_out[i]))\n",
    "        # Calculate fraction of last input bin overlaping this output bin.\n",
    "        if hi <= nin:\n",
    "            hist_out_rolled[i] += (\n",
    "                hist_in_rolled[hi - 1] / binsize_in[hi - 1] * (\n",
    "                    edges_out[i + 1] - edges_in[hi - 1]))\n",
    "        # Add input bins fully contained within this output bin.\n",
    "        if hi > lo + 1:\n",
    "            hist_out_rolled[i] += np.sum(hist_in_rolled[lo:hi - 1], axis=0)\n",
    "    # Return our unrolled output histogram.\n",
    "    return np.moveaxis(hist_out_rolled, axis, 0)"
   ]
  },
  {
   "cell_type": "code",
   "execution_count": 34,
   "metadata": {
    "collapsed": true
   },
   "outputs": [],
   "source": [
    "dat = np.random.normal(loc=0, scale=1.0, size=100)\n",
    "edges_in = np.arange(-3,4,1)\n",
    "hist_in, _ = np.histogram(dat, edges_in)\n",
    "edges_out = np.arange(-3,4,2)"
   ]
  },
  {
   "cell_type": "code",
   "execution_count": 35,
   "metadata": {
    "collapsed": false
   },
   "outputs": [],
   "source": [
    "hist_out = resample_binned(edges_out, edges_in, hist_in)"
   ]
  },
  {
   "cell_type": "code",
   "execution_count": 40,
   "metadata": {
    "collapsed": false
   },
   "outputs": [],
   "source": [
    "mdpt_in = 0.5 * (edges_in[1:] + edges_in[:-1])"
   ]
  },
  {
   "cell_type": "code",
   "execution_count": 46,
   "metadata": {
    "collapsed": false
   },
   "outputs": [
    {
     "data": {
      "image/png": "[encoded data removed]",
      "text/plain": [
       "<Figure size 432x288 with 1 Axes>"
      ]
     },
     "metadata": {},
     "output_type": "display_data"
    }
   ],
   "source": [
    "plt.hist(dat, bins=edges_in, alpha=0.3)\n",
    "plt.hist(dat, bins=edges_out, histtype='step', lw=2)\n",
    "plt.plot(mdpt_in, hist_in, '.')\n",
    "plt.show()"
   ]
  },
  {
   "cell_type": "markdown",
   "metadata": {},
   "source": [
    "Good - works as we would expect. Now I want to write my own downsampling function, do it the long way first so that I understand each step of what is going on. After this I will verify that I get the same result using `skysim.utils.resample_density()` then `skysim.utils.resample_binned()`. \n",
    "\n",
    "The first thing we need to do is to convert from flux density to counts. We do this by multiplying the flux by the bin width. Create `b_edges` so that the midpoint of each bin is centered on the values `b_wlen`.\n",
    "\n",
    "Note: some of the `b_flux` and `r_flux` values are nan's ... need to look into this (maybe has to do with how throughput is calculated for wavelength values that fall outside of the wavelength grid for each camera?)"
   ]
  },
  {
   "cell_type": "code",
   "execution_count": 83,
   "metadata": {
    "collapsed": false
   },
   "outputs": [
    {
     "name": "stdout",
     "output_type": "stream",
     "text": [
      "True\n"
     ]
    }
   ],
   "source": [
    "## Bin width\n",
    "b_diff = np.diff(b_wlen)\n",
    "print(np.all(b_diff[0] == b_diff))\n",
    "b_diff = b_diff[0]"
   ]
  },
  {
   "cell_type": "code",
   "execution_count": 133,
   "metadata": {
    "collapsed": true
   },
   "outputs": [],
   "source": [
    "## Define nominal bin edges\n",
    "b_edges = b_wlen - (0.5 * b_diff)\n",
    "b_edges = np.append(b_edges, b_edges[-1] + b_diff)\n",
    "b_edges = np.log10(b_edges)"
   ]
  },
  {
   "cell_type": "code",
   "execution_count": 96,
   "metadata": {
    "collapsed": true
   },
   "outputs": [],
   "source": [
    "b_counts = b_flux * b_diff\n",
    "## b_counts, b_edges is our simulation histogram"
   ]
  },
  {
   "cell_type": "code",
   "execution_count": 119,
   "metadata": {
    "collapsed": false
   },
   "outputs": [],
   "source": [
    "## Define eBOSS bin edges\n",
    "eboss_wlen = np.load('b_loglam.npy')\n",
    "eboss_diff = np.diff(eboss_wlen)\n",
    "eboss_diff_app = np.append(eboss_diff, eboss_diff[-1])\n",
    "eboss_edges = eboss_wlen - (0.5 * eboss_diff_app)\n",
    "eboss_edges = np.append(eboss_edges, eboss_edges[-1] + eboss_diff_app[-1])"
   ]
  },
  {
   "cell_type": "code",
   "execution_count": 334,
   "metadata": {
    "collapsed": false
   },
   "outputs": [],
   "source": [
    "idx_in_eboss = np.searchsorted(eboss_edges, b_edges)"
   ]
  },
  {
   "cell_type": "code",
   "execution_count": 363,
   "metadata": {
    "collapsed": false
   },
   "outputs": [],
   "source": [
    "output_hist = np.zeros_like(eboss_wlen)\n",
    "flux_right = 0\n",
    "prev_idx = -1\n",
    "\n",
    "for i in range(len(idx_in_eboss) - 1):\n",
    "    output_hist[idx_in_eboss[i] - 1] += flux_right\n",
    "    if prev_idx == idx_in_eboss[i+1]:\n",
    "        output_hist[prev_idx - 1] += b_counts[i]\n",
    "    else:\n",
    "        diff = idx_in_eboss[i+1] - idx_in_eboss[i]\n",
    "        if diff == 0:\n",
    "            output_hist[idx_in_eboss[i] - 1] += b_counts[i]\n",
    "            flux_right = 0\n",
    "            prev_idx = idx_in_eboss[i]\n",
    "        elif diff > 0:\n",
    "            left = (eboss_edges[idx_in_eboss[i]] - b_edges[i]) / (b_edges[i+1] - b_edges[i])\n",
    "            right = 1 - left\n",
    "            flux_left = left * b_counts[i]\n",
    "            flux_right = right * b_counts[i]\n",
    "            #assert (flux_right + flux_left) == b_counts[i]\n",
    "            output_hist[idx_in_eboss[i] - 1] += flux_left"
   ]
  },
  {
   "cell_type": "code",
   "execution_count": 379,
   "metadata": {
    "collapsed": false
   },
   "outputs": [
    {
     "data": {
      "image/png": "[encoded data removed]",
      "text/plain": [
       "<Figure size 432x288 with 1 Axes>"
      ]
     },
     "metadata": {},
     "output_type": "display_data"
    }
   ],
   "source": [
    "plt.plot(eboss_wlen, output_hist, '.')\n",
    "plt.plot(np.log10(b_wlen), b_counts, '.')\n",
    "plt.plot(np.log10(b_wlen), b_flux, '.')\n",
    "plt.show()"
   ]
  },
  {
   "cell_type": "code",
   "execution_count": 377,
   "metadata": {
    "collapsed": false
   },
   "outputs": [
    {
     "data": {
      "text/plain": [
       "nan"
      ]
     },
     "execution_count": 377,
     "metadata": {},
     "output_type": "execute_result"
    }
   ],
   "source": [
    "np.sum(output_hist)"
   ]
  },
  {
   "cell_type": "code",
   "execution_count": null,
   "metadata": {
    "collapsed": true
   },
   "outputs": [],
   "source": []
  }
 ],
 "metadata": {
  "kernelspec": {
   "display_name": "Python [conda env:galsim]",
   "language": "python",
   "name": "conda-env-galsim-py"
  },
  "language_info": {
   "codemirror_mode": {
    "name": "ipython",
    "version": 3
   },
   "file_extension": ".py",
   "mimetype": "text/x-python",
   "name": "python",
   "nbconvert_exporter": "python",
   "pygments_lexer": "ipython3",
   "version": "3.6.6"
  }
 },
 "nbformat": 4,
 "nbformat_minor": 1
}
